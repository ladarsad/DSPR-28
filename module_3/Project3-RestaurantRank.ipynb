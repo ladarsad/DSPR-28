{
 "cells": [
  {
   "cell_type": "markdown",
   "metadata": {},
   "source": [
    "# Загрузка Pandas и очистка данных"
   ]
  },
  {
   "cell_type": "code",
   "execution_count": 1,
   "metadata": {},
   "outputs": [],
   "source": [
    "import pandas as pd\n",
    "import seaborn as sns\n",
    "import matplotlib.pyplot as plt\n",
    "import re \n",
    "import datetime"
   ]
  },
  {
   "cell_type": "code",
   "execution_count": 2,
   "metadata": {},
   "outputs": [
    {
     "name": "stdout",
     "output_type": "stream",
     "text": [
      "<class 'pandas.core.frame.DataFrame'>\n",
      "RangeIndex: 40000 entries, 0 to 39999\n",
      "Data columns (total 10 columns):\n",
      " #   Column             Non-Null Count  Dtype  \n",
      "---  ------             --------------  -----  \n",
      " 0   Restaurant_id      40000 non-null  object \n",
      " 1   City               40000 non-null  object \n",
      " 2   Cuisine Style      30717 non-null  object \n",
      " 3   Ranking            40000 non-null  float64\n",
      " 4   Rating             40000 non-null  float64\n",
      " 5   Price Range        26114 non-null  object \n",
      " 6   Number of Reviews  37457 non-null  float64\n",
      " 7   Reviews            40000 non-null  object \n",
      " 8   URL_TA             40000 non-null  object \n",
      " 9   ID_TA              40000 non-null  object \n",
      "dtypes: float64(3), object(7)\n",
      "memory usage: 3.1+ MB\n"
     ]
    }
   ],
   "source": [
    "df = pd.read_csv('main_task.xls')\n",
    "df.info()"
   ]
  },
  {
   "cell_type": "code",
   "execution_count": 3,
   "metadata": {},
   "outputs": [
    {
     "data": {
      "text/plain": [
       "<AxesSubplot:>"
      ]
     },
     "execution_count": 3,
     "metadata": {},
     "output_type": "execute_result"
    },
    {
     "data": {
      "image/png": "[encoded data removed]",
      "text/plain": [
       "<Figure size 1440x720 with 4 Axes>"
      ]
     },
     "metadata": {
      "needs_background": "light"
     },
     "output_type": "display_data"
    }
   ],
   "source": [
    "#гистограммы числовых признаков\n",
    "df[['Ranking', 'Rating', 'Number of Reviews','Price Range', 'Restaurant_id']].hist(figsize=(20, 10), bins=100);\n",
    "plt.tight_layout()\n",
    "#гистограмма по городам\n",
    "df['City'].value_counts(ascending=True).plot(kind='barh')"
   ]
  },
  {
   "cell_type": "code",
   "execution_count": 4,
   "metadata": {},
   "outputs": [],
   "source": [
    "df['Price Range'] = df['Price Range'].fillna('$$ - $$$')\n",
    "recode_price={'$':0, '$$ - $$$':1, '$$$$':2}\n",
    "df['Price Range'] = df['Price Range'].replace(recode_price) #кодирование ординального признака"
   ]
  },
  {
   "cell_type": "code",
   "execution_count": 5,
   "metadata": {},
   "outputs": [],
   "source": [
    "df['Number of Reviews'] = df['Number of Reviews'].fillna(0) #отзывы отсутствуют"
   ]
  },
  {
   "cell_type": "code",
   "execution_count": 6,
   "metadata": {},
   "outputs": [],
   "source": [
    "def str_to_list(field): #приведение строкового поля к виду списка \n",
    "    if pd.isna(field):\n",
    "        return ['Other']\n",
    "    else:\n",
    "        field = field.replace(\"'\",\"\")\n",
    "        field = field.replace(\"]\",\"\")\n",
    "        field = field.replace(\"[\",\"\")\n",
    "        field = field.split(\", \")\n",
    "        return field\n",
    "        \n",
    "df['Reviews'] = df['Reviews'].apply(str_to_list)\n",
    "df['Cuisine Style'] = df['Cuisine Style'].apply(str_to_list)"
   ]
  },
  {
   "cell_type": "code",
   "execution_count": 7,
   "metadata": {},
   "outputs": [],
   "source": [
    "from sklearn.preprocessing import MultiLabelBinarizer\n",
    "#разбитие Cuisine Style на dummy-столбцы\n",
    "multilabelbinarizer = MultiLabelBinarizer()\n",
    "multilabel_encoded_results = multilabelbinarizer.fit_transform(df['Cuisine Style'])\n",
    "df_multilabel_data = pd.DataFrame(multilabel_encoded_results, columns=multilabelbinarizer.classes_)\n",
    "df = df.join(df_multilabel_data)\n",
    "\n",
    "df['Cuisine Count'] = df['Cuisine Style'].apply(len) #количество кухонь, представленных в ресторане"
   ]
  },
  {
   "cell_type": "code",
   "execution_count": 8,
   "metadata": {},
   "outputs": [],
   "source": [
    "pattern = re.compile(\"\\d+\\/\\d+\\/\\d+\")\n",
    "df['Reviews'] = df['Reviews'].apply(lambda x: \" \".join(x))\n",
    "df['Date of Reviews'] = df['Reviews'].apply(pattern.findall)  #поиск дат в списке Reviews\n",
    "\n",
    "def last_review(field): #поиск даты последнего отзыва\n",
    "    if len(field) == 0:\n",
    "        return 0\n",
    "    elif len(field) == 1:\n",
    "        return field[0]\n",
    "    else:\n",
    "        return max(field)\n",
    "\n",
    "def since_last_review(date):   #подсчет количества дней с последнего отзыва\n",
    "    if date == 0:\n",
    "        return 0\n",
    "    today = datetime.datetime.today()\n",
    "    if date[:2] > '12':\n",
    "        date = datetime.datetime.strptime(date, '%d/%m/%Y')\n",
    "    else:\n",
    "        date = datetime.datetime.strptime(date, '%m/%d/%Y')\n",
    "    delta = today - date\n",
    "    return delta.days\n",
    "\n",
    "df['Date of Reviews']=df['Date of Reviews'].apply(last_review) #дата последнего отзыва\n",
    "df['Days Since Last Review'] = df['Date of Reviews'].apply(since_last_review) #количество дней с последнего отзыва"
   ]
  },
  {
   "cell_type": "code",
   "execution_count": 9,
   "metadata": {},
   "outputs": [],
   "source": [
    "population = {'Paris':2.13, 'Stockholm':1.25, 'London':7.55, 'Berlin':3.32, 'Munich':1.36, 'Oporto':0.29,\n",
    "       'Milan':1.23, 'Bratislava':0.41, 'Vienna':1.76, 'Rome':2.32, 'Barcelona':1.59, 'Madrid':3.25,\n",
    "       'Dublin':4.92, 'Brussels':1.01, 'Zurich':0.4, 'Warsaw':1.72, 'Budapest':1.74, 'Copenhagen':1.15,\n",
    "       'Amsterdam':0.87, 'Lyon':0.49, 'Hamburg':1.71, 'Lisbon':0.54, 'Prague':1.16, 'Oslo':0.67,\n",
    "       'Helsinki':0.57, 'Edinburgh':0.46, 'Geneva':0.19, 'Ljubljana':0.27, 'Athens':3.16,\n",
    "       'Luxembourg':0.62, 'Krakow':0.75}\n",
    "country = {'Paris':'France', 'Stockholm':'Sweden', 'London':'United Kingdom', 'Berlin':'Germany', 'Munich':'Germany',\n",
    "           'Oporto':'Portugal', 'Milan':'Italy', 'Bratislava':'Slovakia', 'Vienna':'Austria', 'Rome':'Italy',\n",
    "           'Barcelona':'Spain', 'Madrid':'Spain', 'Dublin':'Ireland', 'Brussels':'Belgium', 'Zurich':'Switzerland', \n",
    "           'Warsaw':'Poland', 'Budapest':'Hungary', 'Copenhagen':'Denmark', 'Amsterdam':'Netherlands', 'Lyon':'France',\n",
    "           'Hamburg':'Germany', 'Lisbon':'Portugal', 'Prague':'Czech Republic', 'Oslo':'Norway', 'Helsinki':'Finland',\n",
    "           'Edinburgh':'United Kingdom', 'Geneva':'Switzerland', 'Ljubljana':'Slovenia', 'Athens':'Greece',\n",
    "           'Luxembourg':'Luxembourg', 'Krakow':'Poland'}\n",
    "df['City Population (mln)'] = df['City'].replace(population) #население города, в котором находится ресторан\n",
    "df['Country'] = df['City'].replace(country)  #страна, в которой находится ресторан\n",
    "df = df.join(pd.get_dummies(df['Country']))"
   ]
  },
  {
   "cell_type": "code",
   "execution_count": 10,
   "metadata": {},
   "outputs": [],
   "source": [
    "df = df.drop(df.select_dtypes(include=['object']),axis=1)"
   ]
  },
  {
   "cell_type": "markdown",
   "metadata": {},
   "source": [
    "# Разбиваем датафрейм на части, необходимые для обучения и тестирования модели"
   ]
  },
  {
   "cell_type": "code",
   "execution_count": 11,
   "metadata": {},
   "outputs": [],
   "source": [
    "# Х - данные с информацией о ресторанах, у - целевая переменная (рейтинги ресторанов)\n",
    "X = df.drop([ 'Rating'], axis = 1)\n",
    "y = df['Rating']"
   ]
  },
  {
   "cell_type": "code",
   "execution_count": 12,
   "metadata": {},
   "outputs": [],
   "source": [
    "# Загружаем специальный инструмент для разбивки:\n",
    "from sklearn.model_selection import train_test_split"
   ]
  },
  {
   "cell_type": "code",
   "execution_count": 13,
   "metadata": {},
   "outputs": [],
   "source": [
    "# Наборы данных с меткой \"train\" будут использоваться для обучения модели, \"test\" - для тестирования.\n",
    "# Для тестирования мы будем использовать 25% от исходного датасета.\n",
    "X_train, X_test, y_train, y_test = train_test_split(X, y, test_size=0.25)"
   ]
  },
  {
   "cell_type": "markdown",
   "metadata": {},
   "source": [
    "# Создаём, обучаем и тестируем модель"
   ]
  },
  {
   "cell_type": "code",
   "execution_count": 14,
   "metadata": {},
   "outputs": [],
   "source": [
    "# Импортируем необходимые библиотеки:\n",
    "from sklearn.ensemble import RandomForestRegressor # инструмент для создания и обучения модели\n",
    "from sklearn import metrics # инструменты для оценки точности модели"
   ]
  },
  {
   "cell_type": "code",
   "execution_count": 15,
   "metadata": {},
   "outputs": [],
   "source": [
    "# Создаём модель\n",
    "regr = RandomForestRegressor(n_estimators=100)\n",
    "\n",
    "# Обучаем модель на тестовом наборе данных\n",
    "regr.fit(X_train, y_train)\n",
    "\n",
    "# Используем обученную модель для предсказания рейтинга ресторанов в тестовой выборке.\n",
    "# Предсказанные значения записываем в переменную y_pred\n",
    "y_pred = regr.predict(X_test)"
   ]
  },
  {
   "cell_type": "code",
   "execution_count": 16,
   "metadata": {},
   "outputs": [
    {
     "name": "stdout",
     "output_type": "stream",
     "text": [
      "MAE: 0.20895450000000002\n"
     ]
    }
   ],
   "source": [
    "# Сравниваем предсказанные значения (y_pred) с реальными (y_test), и смотрим насколько они в среднем отличаются\n",
    "# Метрика называется Mean Absolute Error (MAE) и показывает среднее отклонение предсказанных значений от фактических.\n",
    "print('MAE:', metrics.mean_absolute_error(y_test, y_pred))"
   ]
  }
 ],
 "metadata": {
  "kernelspec": {
   "display_name": "Python 3",
   "language": "python",
   "name": "python3"
  },
  "language_info": {
   "codemirror_mode": {
    "name": "ipython",
    "version": 3
   },
   "file_extension": ".py",
   "mimetype": "text/x-python",
   "name": "python",
   "nbconvert_exporter": "python",
   "pygments_lexer": "ipython3",
   "version": "3.8.5"
  }
 },
 "nbformat": 4,
 "nbformat_minor": 2
}
