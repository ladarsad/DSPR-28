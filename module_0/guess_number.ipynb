{
 "cells": [
  {
   "cell_type": "markdown",
   "metadata": {},
   "source": [
    "#### Компьютер загадывает целое число от 1 до 100, требуется угадать это число"
   ]
  },
  {
   "cell_type": "code",
   "execution_count": 1,
   "metadata": {},
   "outputs": [
    {
     "name": "stdout",
     "output_type": "stream",
     "text": [
      "Алгоритм угадывает число в среднем за 5 попыток\n"
     ]
    },
    {
     "data": {
      "text/plain": [
       "5"
      ]
     },
     "execution_count": 1,
     "metadata": {},
     "output_type": "execute_result"
    }
   ],
   "source": [
    "import numpy as np \n",
    "\n",
    "def score_game(game_core):\n",
    "    '''Запускаем игру 1000 раз, чтобы узнать, как быстро алгоритм угадывает число'''\n",
    "    count_ls = []\n",
    "    np.random.seed(1) \n",
    "    random_array = np.random.randint(1,101, size=(1000)) #массив загаданных чисел\n",
    "    for number in random_array:\n",
    "        count_ls.append(game_core(number)) #добавление кол-ва попыток для каждого запуска\n",
    "    score = int(np.mean(count_ls))\n",
    "    print(f\"Алгоритм угадывает число в среднем за {score} попыток\")\n",
    "    return(score)\n",
    "\n",
    "def game_core(number):\n",
    "    '''Уменьшаем или увеличиваем число в зависимости от того, больше оно или меньше загаданного.\n",
    "       Функция принимает загаданное число и возвращает число попыток'''\n",
    "    count = 1\n",
    "    high = 100\n",
    "    low = 1\n",
    "    predict = 50 #начальное предположение\n",
    "    while number != predict and low < high:\n",
    "        count+=1\n",
    "        if number > predict: #сдвигаем границы\n",
    "            low = predict + 1\n",
    "        else:\n",
    "            high = predict - 1\n",
    "        predict = int((low+high)/2) #новое предположение\n",
    "    return(count) \n",
    "\n",
    "#запуск\n",
    "score_game(game_core)"
   ]
  }
 ],
 "metadata": {
  "kernelspec": {
   "display_name": "Python 3",
   "language": "python",
   "name": "python3"
  },
  "language_info": {
   "codemirror_mode": {
    "name": "ipython",
    "version": 3
   },
   "file_extension": ".py",
   "mimetype": "text/x-python",
   "name": "python",
   "nbconvert_exporter": "python",
   "pygments_lexer": "ipython3",
   "version": "3.8.5"
  }
 },
 "nbformat": 4,
 "nbformat_minor": 4
}
