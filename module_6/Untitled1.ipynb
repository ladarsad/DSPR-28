{
 "cells": [
  {
   "cell_type": "code",
   "execution_count": 1,
   "metadata": {},
   "outputs": [],
   "source": [
    "import pandas as pd\n",
    "import numpy as np\n",
    "import matplotlib.pyplot as plt\n",
    "from matplotlib import style\n",
    "%matplotlib inline\n",
    "import seaborn as sns\n",
    "\n",
    "from sklearn.preprocessing import MultiLabelBinarizer"
   ]
  },
  {
   "cell_type": "code",
   "execution_count": 49,
   "metadata": {},
   "outputs": [
    {
     "name": "stderr",
     "output_type": "stream",
     "text": [
      "C:\\Users\\007\\anaconda3\\lib\\site-packages\\IPython\\core\\interactiveshell.py:3146: DtypeWarning: Columns (0) have mixed types.Specify dtype option on import or set low_memory=False.\n",
      "  has_raised = await self.run_ast_nodes(code_ast.body, cell_name,\n"
     ]
    },
    {
     "data": {
      "text/html": [
       "<div>\n",
       "<style scoped>\n",
       "    .dataframe tbody tr th:only-of-type {\n",
       "        vertical-align: middle;\n",
       "    }\n",
       "\n",
       "    .dataframe tbody tr th {\n",
       "        vertical-align: top;\n",
       "    }\n",
       "\n",
       "    .dataframe thead th {\n",
       "        text-align: right;\n",
       "    }\n",
       "</style>\n",
       "<table border=\"1\" class=\"dataframe\">\n",
       "  <thead>\n",
       "    <tr style=\"text-align: right;\">\n",
       "      <th></th>\n",
       "      <th>Unnamed: 0</th>\n",
       "      <th>equipment_dict</th>\n",
       "      <th>modelDate</th>\n",
       "      <th>numberOfDoors</th>\n",
       "      <th>super_gen</th>\n",
       "      <th>vendor</th>\n",
       "      <th>price_segment</th>\n",
       "      <th>mark_info</th>\n",
       "      <th>model_info</th>\n",
       "      <th>bodyType</th>\n",
       "      <th>...</th>\n",
       "      <th>fuelType</th>\n",
       "      <th>tax_per_year</th>\n",
       "      <th>vehicleTransmission</th>\n",
       "      <th>Привод</th>\n",
       "      <th>Руль</th>\n",
       "      <th>Состояние</th>\n",
       "      <th>Владельцы</th>\n",
       "      <th>ПТС</th>\n",
       "      <th>Таможня</th>\n",
       "      <th>description</th>\n",
       "    </tr>\n",
       "  </thead>\n",
       "  <tbody>\n",
       "    <tr>\n",
       "      <th>0</th>\n",
       "      <td>1</td>\n",
       "      <td>{'engine-proof': True, 'alloy-wheel-disks': Tr...</td>\n",
       "      <td>2000</td>\n",
       "      <td>4</td>\n",
       "      <td>{'id': '6456218', 'displacement': 1984, 'engin...</td>\n",
       "      <td>EUROPEAN</td>\n",
       "      <td>PREMIUM</td>\n",
       "      <td>Audi</td>\n",
       "      <td>A4</td>\n",
       "      <td>Седан</td>\n",
       "      <td>...</td>\n",
       "      <td>Бензин</td>\n",
       "      <td>Налог1 222 ₽ / год</td>\n",
       "      <td>Коробкавариатор</td>\n",
       "      <td>Приводпередний</td>\n",
       "      <td>РульЛевый</td>\n",
       "      <td>СостояниеНе требует ремонта</td>\n",
       "      <td>Владельцы3 или более</td>\n",
       "      <td>ПТСОригинал</td>\n",
       "      <td>ТаможняРастаможен</td>\n",
       "      <td>- АУДИ А4Бортовой компьютерКлимат- контрольЭл...</td>\n",
       "    </tr>\n",
       "    <tr>\n",
       "      <th>1</th>\n",
       "      <td>3</td>\n",
       "      <td>{'alarm': True}</td>\n",
       "      <td>1976</td>\n",
       "      <td>4</td>\n",
       "      <td>{'id': '6432074', 'displacement': 1569, 'engin...</td>\n",
       "      <td>RUSSIAN</td>\n",
       "      <td>ECONOMY</td>\n",
       "      <td>LADA (ВАЗ)</td>\n",
       "      <td>2106</td>\n",
       "      <td>Седан</td>\n",
       "      <td>...</td>\n",
       "      <td>Бензин</td>\n",
       "      <td>Налог983 ₽ / год</td>\n",
       "      <td>Коробкамеханическая</td>\n",
       "      <td>Приводзадний</td>\n",
       "      <td>РульЛевый</td>\n",
       "      <td>СостояниеНе требует ремонта</td>\n",
       "      <td>Владельцы2 владельца</td>\n",
       "      <td>ПТСОригинал</td>\n",
       "      <td>ТаможняРастаможен</td>\n",
       "      <td>Продам Ваз 2106 1.6 4 передачиАвто в хорошем с...</td>\n",
       "    </tr>\n",
       "    <tr>\n",
       "      <th>2</th>\n",
       "      <td>7</td>\n",
       "      <td>{'alloy-wheel-disks': True, 'ptf': True, 'roof...</td>\n",
       "      <td>1993</td>\n",
       "      <td>3</td>\n",
       "      <td>{'id': '6433304', 'displacement': 1690, 'engin...</td>\n",
       "      <td>RUSSIAN</td>\n",
       "      <td>ECONOMY</td>\n",
       "      <td>LADA (ВАЗ)</td>\n",
       "      <td>2121 (4x4)</td>\n",
       "      <td>Внедорожник 3 дв.</td>\n",
       "      <td>...</td>\n",
       "      <td>Бензин</td>\n",
       "      <td>Налог948 ₽ / год</td>\n",
       "      <td>Коробкамеханическая</td>\n",
       "      <td>Приводполный</td>\n",
       "      <td>РульЛевый</td>\n",
       "      <td>СостояниеНе требует ремонта</td>\n",
       "      <td>Владельцы3 или более</td>\n",
       "      <td>ПТСОригинал</td>\n",
       "      <td>ТаможняРастаможен</td>\n",
       "      <td>отличное состояние, движок карбюратор, все раб...</td>\n",
       "    </tr>\n",
       "  </tbody>\n",
       "</table>\n",
       "<p>3 rows × 31 columns</p>\n",
       "</div>"
      ],
      "text/plain": [
       "  Unnamed: 0                                     equipment_dict modelDate  \\\n",
       "0          1  {'engine-proof': True, 'alloy-wheel-disks': Tr...      2000   \n",
       "1          3                                    {'alarm': True}      1976   \n",
       "2          7  {'alloy-wheel-disks': True, 'ptf': True, 'roof...      1993   \n",
       "\n",
       "  numberOfDoors                                          super_gen    vendor  \\\n",
       "0             4  {'id': '6456218', 'displacement': 1984, 'engin...  EUROPEAN   \n",
       "1             4  {'id': '6432074', 'displacement': 1569, 'engin...   RUSSIAN   \n",
       "2             3  {'id': '6433304', 'displacement': 1690, 'engin...   RUSSIAN   \n",
       "\n",
       "  price_segment   mark_info  model_info           bodyType  ... fuelType  \\\n",
       "0       PREMIUM        Audi          A4              Седан  ...   Бензин   \n",
       "1       ECONOMY  LADA (ВАЗ)        2106              Седан  ...   Бензин   \n",
       "2       ECONOMY  LADA (ВАЗ)  2121 (4x4)  Внедорожник 3 дв.  ...   Бензин   \n",
       "\n",
       "         tax_per_year  vehicleTransmission          Привод       Руль  \\\n",
       "0  Налог1 222 ₽ / год      Коробкавариатор  Приводпередний  РульЛевый   \n",
       "1    Налог983 ₽ / год  Коробкамеханическая    Приводзадний  РульЛевый   \n",
       "2    Налог948 ₽ / год  Коробкамеханическая    Приводполный  РульЛевый   \n",
       "\n",
       "                     Состояние             Владельцы          ПТС  \\\n",
       "0  СостояниеНе требует ремонта  Владельцы3 или более  ПТСОригинал   \n",
       "1  СостояниеНе требует ремонта  Владельцы2 владельца  ПТСОригинал   \n",
       "2  СостояниеНе требует ремонта  Владельцы3 или более  ПТСОригинал   \n",
       "\n",
       "             Таможня                                        description  \n",
       "0  ТаможняРастаможен   - АУДИ А4Бортовой компьютерКлимат- контрольЭл...  \n",
       "1  ТаможняРастаможен  Продам Ваз 2106 1.6 4 передачиАвто в хорошем с...  \n",
       "2  ТаможняРастаможен  отличное состояние, движок карбюратор, все раб...  \n",
       "\n",
       "[3 rows x 31 columns]"
      ]
     },
     "execution_count": 49,
     "metadata": {},
     "output_type": "execute_result"
    }
   ],
   "source": [
    "all_cars = pd.read_csv('Dataset_full_1.csv')\n",
    "all_cars.head(3)"
   ]
  },
  {
   "cell_type": "code",
   "execution_count": 3,
   "metadata": {},
   "outputs": [
    {
     "data": {
      "text/html": [
       "<div>\n",
       "<style scoped>\n",
       "    .dataframe tbody tr th:only-of-type {\n",
       "        vertical-align: middle;\n",
       "    }\n",
       "\n",
       "    .dataframe tbody tr th {\n",
       "        vertical-align: top;\n",
       "    }\n",
       "\n",
       "    .dataframe thead th {\n",
       "        text-align: right;\n",
       "    }\n",
       "</style>\n",
       "<table border=\"1\" class=\"dataframe\">\n",
       "  <thead>\n",
       "    <tr style=\"text-align: right;\">\n",
       "      <th></th>\n",
       "      <th>bodyType</th>\n",
       "      <th>brand</th>\n",
       "      <th>car_url</th>\n",
       "      <th>color</th>\n",
       "      <th>complectation_dict</th>\n",
       "      <th>description</th>\n",
       "      <th>engineDisplacement</th>\n",
       "      <th>enginePower</th>\n",
       "      <th>equipment_dict</th>\n",
       "      <th>fuelType</th>\n",
       "      <th>...</th>\n",
       "      <th>vehicleConfiguration</th>\n",
       "      <th>vehicleTransmission</th>\n",
       "      <th>vendor</th>\n",
       "      <th>Владельцы</th>\n",
       "      <th>Владение</th>\n",
       "      <th>ПТС</th>\n",
       "      <th>Привод</th>\n",
       "      <th>Руль</th>\n",
       "      <th>Состояние</th>\n",
       "      <th>Таможня</th>\n",
       "    </tr>\n",
       "  </thead>\n",
       "  <tbody>\n",
       "    <tr>\n",
       "      <th>0</th>\n",
       "      <td>лифтбек</td>\n",
       "      <td>SKODA</td>\n",
       "      <td>https://auto.ru/cars/used/sale/skoda/octavia/1...</td>\n",
       "      <td>синий</td>\n",
       "      <td>NaN</td>\n",
       "      <td>Все автомобили, представленные в продаже, прох...</td>\n",
       "      <td>1.2 LTR</td>\n",
       "      <td>105 N12</td>\n",
       "      <td>{\"engine-proof\":true,\"tinted-glass\":true,\"airb...</td>\n",
       "      <td>бензин</td>\n",
       "      <td>...</td>\n",
       "      <td>LIFTBACK ROBOT 1.2</td>\n",
       "      <td>роботизированная</td>\n",
       "      <td>EUROPEAN</td>\n",
       "      <td>3 или более</td>\n",
       "      <td>NaN</td>\n",
       "      <td>Оригинал</td>\n",
       "      <td>передний</td>\n",
       "      <td>Левый</td>\n",
       "      <td>Не требует ремонта</td>\n",
       "      <td>Растаможен</td>\n",
       "    </tr>\n",
       "    <tr>\n",
       "      <th>1</th>\n",
       "      <td>лифтбек</td>\n",
       "      <td>SKODA</td>\n",
       "      <td>https://auto.ru/cars/used/sale/skoda/octavia/1...</td>\n",
       "      <td>чёрный</td>\n",
       "      <td>NaN</td>\n",
       "      <td>ЛОТ: 01217195\\nАвтопрага Север\\nДанный автомоб...</td>\n",
       "      <td>1.6 LTR</td>\n",
       "      <td>110 N12</td>\n",
       "      <td>{\"cruise-control\":true,\"asr\":true,\"esp\":true,\"...</td>\n",
       "      <td>бензин</td>\n",
       "      <td>...</td>\n",
       "      <td>LIFTBACK MECHANICAL 1.6</td>\n",
       "      <td>механическая</td>\n",
       "      <td>EUROPEAN</td>\n",
       "      <td>1 владелец</td>\n",
       "      <td>NaN</td>\n",
       "      <td>Оригинал</td>\n",
       "      <td>передний</td>\n",
       "      <td>Левый</td>\n",
       "      <td>Не требует ремонта</td>\n",
       "      <td>Растаможен</td>\n",
       "    </tr>\n",
       "    <tr>\n",
       "      <th>2</th>\n",
       "      <td>лифтбек</td>\n",
       "      <td>SKODA</td>\n",
       "      <td>https://auto.ru/cars/used/sale/skoda/superb/11...</td>\n",
       "      <td>серый</td>\n",
       "      <td>{\"id\":\"20026336\",\"name\":\"Ambition\",\"available_...</td>\n",
       "      <td>Все автомобили, представленные в продаже, прох...</td>\n",
       "      <td>1.8 LTR</td>\n",
       "      <td>152 N12</td>\n",
       "      <td>{\"cruise-control\":true,\"tinted-glass\":true,\"es...</td>\n",
       "      <td>бензин</td>\n",
       "      <td>...</td>\n",
       "      <td>LIFTBACK ROBOT 1.8</td>\n",
       "      <td>роботизированная</td>\n",
       "      <td>EUROPEAN</td>\n",
       "      <td>1 владелец</td>\n",
       "      <td>NaN</td>\n",
       "      <td>Оригинал</td>\n",
       "      <td>передний</td>\n",
       "      <td>Левый</td>\n",
       "      <td>Не требует ремонта</td>\n",
       "      <td>Растаможен</td>\n",
       "    </tr>\n",
       "  </tbody>\n",
       "</table>\n",
       "<p>3 rows × 32 columns</p>\n",
       "</div>"
      ],
      "text/plain": [
       "  bodyType  brand                                            car_url   color  \\\n",
       "0  лифтбек  SKODA  https://auto.ru/cars/used/sale/skoda/octavia/1...   синий   \n",
       "1  лифтбек  SKODA  https://auto.ru/cars/used/sale/skoda/octavia/1...  чёрный   \n",
       "2  лифтбек  SKODA  https://auto.ru/cars/used/sale/skoda/superb/11...   серый   \n",
       "\n",
       "                                  complectation_dict  \\\n",
       "0                                                NaN   \n",
       "1                                                NaN   \n",
       "2  {\"id\":\"20026336\",\"name\":\"Ambition\",\"available_...   \n",
       "\n",
       "                                         description engineDisplacement  \\\n",
       "0  Все автомобили, представленные в продаже, прох...            1.2 LTR   \n",
       "1  ЛОТ: 01217195\\nАвтопрага Север\\nДанный автомоб...            1.6 LTR   \n",
       "2  Все автомобили, представленные в продаже, прох...            1.8 LTR   \n",
       "\n",
       "  enginePower                                     equipment_dict fuelType  \\\n",
       "0     105 N12  {\"engine-proof\":true,\"tinted-glass\":true,\"airb...   бензин   \n",
       "1     110 N12  {\"cruise-control\":true,\"asr\":true,\"esp\":true,\"...   бензин   \n",
       "2     152 N12  {\"cruise-control\":true,\"tinted-glass\":true,\"es...   бензин   \n",
       "\n",
       "   ...     vehicleConfiguration  vehicleTransmission    vendor    Владельцы  \\\n",
       "0  ...       LIFTBACK ROBOT 1.2     роботизированная  EUROPEAN  3 или более   \n",
       "1  ...  LIFTBACK MECHANICAL 1.6         механическая  EUROPEAN   1 владелец   \n",
       "2  ...       LIFTBACK ROBOT 1.8     роботизированная  EUROPEAN   1 владелец   \n",
       "\n",
       "  Владение       ПТС    Привод   Руль           Состояние     Таможня  \n",
       "0      NaN  Оригинал  передний  Левый  Не требует ремонта  Растаможен  \n",
       "1      NaN  Оригинал  передний  Левый  Не требует ремонта  Растаможен  \n",
       "2      NaN  Оригинал  передний  Левый  Не требует ремонта  Растаможен  \n",
       "\n",
       "[3 rows x 32 columns]"
      ]
     },
     "execution_count": 3,
     "metadata": {},
     "output_type": "execute_result"
    }
   ],
   "source": [
    "test = pd.read_csv('test.csv')\n",
    "test.head(3)"
   ]
  },
  {
   "cell_type": "code",
   "execution_count": 4,
   "metadata": {},
   "outputs": [
    {
     "name": "stdout",
     "output_type": "stream",
     "text": [
      "<class 'pandas.core.frame.DataFrame'>\n",
      "RangeIndex: 69843 entries, 0 to 69842\n",
      "Data columns (total 31 columns):\n",
      " #   Column               Non-Null Count  Dtype  \n",
      "---  ------               --------------  -----  \n",
      " 0   Unnamed: 0           69843 non-null  object \n",
      " 1   equipment_dict       69799 non-null  object \n",
      " 2   modelDate            69799 non-null  object \n",
      " 3   numberOfDoors        69799 non-null  object \n",
      " 4   super_gen            69799 non-null  object \n",
      " 5   vendor               69799 non-null  object \n",
      " 6   price_segment        69799 non-null  object \n",
      " 7   mark_info            69799 non-null  object \n",
      " 8   model_info           69799 non-null  object \n",
      " 9   bodyType             69799 non-null  object \n",
      " 10  brand                69799 non-null  object \n",
      " 11  model_name           69799 non-null  object \n",
      " 12  model_version        69799 non-null  object \n",
      " 13  name                 69799 non-null  object \n",
      " 14  car_city             69799 non-null  object \n",
      " 15  publish_date         69799 non-null  object \n",
      " 16  user_views           69799 non-null  object \n",
      " 17  car_price            69799 non-null  object \n",
      " 18  productionDate       69799 non-null  float64\n",
      " 19  mileage              69799 non-null  object \n",
      " 20  color                69799 non-null  object \n",
      " 21  fuelType             69799 non-null  object \n",
      " 22  tax_per_year         69799 non-null  object \n",
      " 23  vehicleTransmission  69799 non-null  object \n",
      " 24  Привод               69799 non-null  object \n",
      " 25  Руль                 69799 non-null  object \n",
      " 26  Состояние            69799 non-null  object \n",
      " 27  Владельцы            69799 non-null  object \n",
      " 28  ПТС                  69799 non-null  object \n",
      " 29  Таможня              69799 non-null  object \n",
      " 30  description          69737 non-null  object \n",
      "dtypes: float64(1), object(30)\n",
      "memory usage: 16.5+ MB\n"
     ]
    }
   ],
   "source": [
    "all_cars.info()"
   ]
  },
  {
   "cell_type": "markdown",
   "metadata": {},
   "source": [
    "датасет доставточно \"грязный\", проверим на наличие пропусков, уберем лишние данные и преобразуем имеющиеся в формат, пригодный для анализа"
   ]
  },
  {
   "cell_type": "code",
   "execution_count": 50,
   "metadata": {},
   "outputs": [
    {
     "data": {
      "text/plain": [
       "Unnamed: 0               0\n",
       "equipment_dict          44\n",
       "modelDate               44\n",
       "numberOfDoors           44\n",
       "super_gen               44\n",
       "vendor                  44\n",
       "price_segment           44\n",
       "mark_info               44\n",
       "model_info              44\n",
       "bodyType                44\n",
       "brand                   44\n",
       "model_name              44\n",
       "model_version           44\n",
       "name                    44\n",
       "car_city                44\n",
       "publish_date            44\n",
       "user_views              44\n",
       "car_price               44\n",
       "productionDate          44\n",
       "mileage                 44\n",
       "color                   44\n",
       "fuelType                44\n",
       "tax_per_year            44\n",
       "vehicleTransmission     44\n",
       "Привод                  44\n",
       "Руль                    44\n",
       "Состояние               44\n",
       "Владельцы               44\n",
       "ПТС                     44\n",
       "Таможня                 44\n",
       "description            106\n",
       "dtype: int64"
      ]
     },
     "execution_count": 50,
     "metadata": {},
     "output_type": "execute_result"
    }
   ],
   "source": [
    "all_cars.isnull().sum()"
   ]
  },
  {
   "cell_type": "markdown",
   "metadata": {},
   "source": [
    "пропуски есть практически в каждой колонке, но их незначительнное количетсво. Поэтому спокойно их удаляем"
   ]
  },
  {
   "cell_type": "code",
   "execution_count": 51,
   "metadata": {},
   "outputs": [
    {
     "data": {
      "text/plain": [
       "Unnamed: 0             0\n",
       "equipment_dict         0\n",
       "modelDate              0\n",
       "numberOfDoors          0\n",
       "super_gen              0\n",
       "vendor                 0\n",
       "price_segment          0\n",
       "mark_info              0\n",
       "model_info             0\n",
       "bodyType               0\n",
       "brand                  0\n",
       "model_name             0\n",
       "model_version          0\n",
       "name                   0\n",
       "car_city               0\n",
       "publish_date           0\n",
       "user_views             0\n",
       "car_price              0\n",
       "productionDate         0\n",
       "mileage                0\n",
       "color                  0\n",
       "fuelType               0\n",
       "tax_per_year           0\n",
       "vehicleTransmission    0\n",
       "Привод                 0\n",
       "Руль                   0\n",
       "Состояние              0\n",
       "Владельцы              0\n",
       "ПТС                    0\n",
       "Таможня                0\n",
       "description            0\n",
       "dtype: int64"
      ]
     },
     "execution_count": 51,
     "metadata": {},
     "output_type": "execute_result"
    }
   ],
   "source": [
    "all_cars = all_cars.dropna()\n",
    "all_cars.isnull().sum()"
   ]
  },
  {
   "cell_type": "code",
   "execution_count": 52,
   "metadata": {},
   "outputs": [],
   "source": [
    "# признак 'Unnamed: 0' будем ипользовать в качестве идентификатора, преобразуем его в числовой формат и переименуем\n",
    "all_cars['Unnamed: 0'] = all_cars['Unnamed: 0'].apply(lambda x: int(x))\n",
    "all_cars = all_cars.rename(columns={'Unnamed: 0': 'car_id'})"
   ]
  },
  {
   "cell_type": "code",
   "execution_count": 363,
   "metadata": {},
   "outputs": [
    {
     "data": {
      "text/html": [
       "<div>\n",
       "<style scoped>\n",
       "    .dataframe tbody tr th:only-of-type {\n",
       "        vertical-align: middle;\n",
       "    }\n",
       "\n",
       "    .dataframe tbody tr th {\n",
       "        vertical-align: top;\n",
       "    }\n",
       "\n",
       "    .dataframe thead th {\n",
       "        text-align: right;\n",
       "    }\n",
       "</style>\n",
       "<table border=\"1\" class=\"dataframe\">\n",
       "  <thead>\n",
       "    <tr style=\"text-align: right;\">\n",
       "      <th></th>\n",
       "      <th>car_id</th>\n",
       "      <th>equipment_dict</th>\n",
       "      <th>modelDate</th>\n",
       "      <th>numberOfDoors</th>\n",
       "      <th>super_gen</th>\n",
       "      <th>vendor</th>\n",
       "      <th>bodyType</th>\n",
       "      <th>brand</th>\n",
       "      <th>model_name</th>\n",
       "      <th>model_version</th>\n",
       "      <th>...</th>\n",
       "      <th>tax_per_year</th>\n",
       "      <th>vehicleTransmission</th>\n",
       "      <th>Привод</th>\n",
       "      <th>Руль</th>\n",
       "      <th>Состояние</th>\n",
       "      <th>Владельцы</th>\n",
       "      <th>ПТС</th>\n",
       "      <th>Таможня</th>\n",
       "      <th>description</th>\n",
       "      <th>equipment_dict1</th>\n",
       "    </tr>\n",
       "  </thead>\n",
       "  <tbody>\n",
       "    <tr>\n",
       "      <th>0</th>\n",
       "      <td>1</td>\n",
       "      <td>{'engine-proof': True, 'alloy-wheel-disks': Tr...</td>\n",
       "      <td>21</td>\n",
       "      <td>4</td>\n",
       "      <td>{'id': '6456218', 'displacement': 1984, 'engin...</td>\n",
       "      <td>EUROPEAN</td>\n",
       "      <td>Седан</td>\n",
       "      <td>Audi</td>\n",
       "      <td>A4</td>\n",
       "      <td>II (B6)</td>\n",
       "      <td>...</td>\n",
       "      <td>Налог1 222 ₽ / год</td>\n",
       "      <td>Коробкавариатор</td>\n",
       "      <td>Приводпередний</td>\n",
       "      <td>РульЛевый</td>\n",
       "      <td>СостояниеНе требует ремонта</td>\n",
       "      <td>Владельцы3 или более</td>\n",
       "      <td>ПТСОригинал</td>\n",
       "      <td>ТаможняРастаможен</td>\n",
       "      <td>- АУДИ А4Бортовой компьютерКлимат- контрольЭл...</td>\n",
       "      <td>[engine-proof, alloy-wheel-disks, ptf, esp, ai...</td>\n",
       "    </tr>\n",
       "    <tr>\n",
       "      <th>1</th>\n",
       "      <td>3</td>\n",
       "      <td>{'alarm': True}</td>\n",
       "      <td>45</td>\n",
       "      <td>4</td>\n",
       "      <td>{'id': '6432074', 'displacement': 1569, 'engin...</td>\n",
       "      <td>RUSSIAN</td>\n",
       "      <td>Седан</td>\n",
       "      <td>LADA (ВАЗ)</td>\n",
       "      <td>2106</td>\n",
       "      <td>1976-2006</td>\n",
       "      <td>...</td>\n",
       "      <td>Налог983 ₽ / год</td>\n",
       "      <td>Коробкамеханическая</td>\n",
       "      <td>Приводзадний</td>\n",
       "      <td>РульЛевый</td>\n",
       "      <td>СостояниеНе требует ремонта</td>\n",
       "      <td>Владельцы2 владельца</td>\n",
       "      <td>ПТСОригинал</td>\n",
       "      <td>ТаможняРастаможен</td>\n",
       "      <td>Продам Ваз 2106 1.6 4 передачиАвто в хорошем с...</td>\n",
       "      <td>[alarm]</td>\n",
       "    </tr>\n",
       "    <tr>\n",
       "      <th>2</th>\n",
       "      <td>7</td>\n",
       "      <td>{'alloy-wheel-disks': True, 'ptf': True, 'roof...</td>\n",
       "      <td>28</td>\n",
       "      <td>3</td>\n",
       "      <td>{'id': '6433304', 'displacement': 1690, 'engin...</td>\n",
       "      <td>RUSSIAN</td>\n",
       "      <td>Внедорожник 3 дв.</td>\n",
       "      <td>LADA (ВАЗ)</td>\n",
       "      <td>2121 (4x4)</td>\n",
       "      <td>I Рестайлинг</td>\n",
       "      <td>...</td>\n",
       "      <td>Налог948 ₽ / год</td>\n",
       "      <td>Коробкамеханическая</td>\n",
       "      <td>Приводполный</td>\n",
       "      <td>РульЛевый</td>\n",
       "      <td>СостояниеНе требует ремонта</td>\n",
       "      <td>Владельцы3 или более</td>\n",
       "      <td>ПТСОригинал</td>\n",
       "      <td>ТаможняРастаможен</td>\n",
       "      <td>отличное состояние, движок карбюратор, все раб...</td>\n",
       "      <td>[alloy-wheel-disks, ptf, roof-rails, wheel-pow...</td>\n",
       "    </tr>\n",
       "    <tr>\n",
       "      <th>4</th>\n",
       "      <td>9</td>\n",
       "      <td>{'turnbuckle': True}</td>\n",
       "      <td>28</td>\n",
       "      <td>3</td>\n",
       "      <td>{'id': '20400417', 'name': 'Фора', 'nameplate'...</td>\n",
       "      <td>RUSSIAN</td>\n",
       "      <td>Внедорожник 3 дв.</td>\n",
       "      <td>LADA (ВАЗ)</td>\n",
       "      <td>2121 (4x4)</td>\n",
       "      <td>I Рестайлинг</td>\n",
       "      <td>...</td>\n",
       "      <td>Налог1 264 ₽ / год</td>\n",
       "      <td>Коробкамеханическая</td>\n",
       "      <td>Приводполный</td>\n",
       "      <td>РульЛевый</td>\n",
       "      <td>СостояниеНе требует ремонта</td>\n",
       "      <td>Владельцы3 или более</td>\n",
       "      <td>ПТСОригинал</td>\n",
       "      <td>ТаможняРастаможен</td>\n",
       "      <td>Нива Fora, удлиненная модель в хорошем состоян...</td>\n",
       "      <td>[turnbuckle]</td>\n",
       "    </tr>\n",
       "    <tr>\n",
       "      <th>5</th>\n",
       "      <td>10</td>\n",
       "      <td>{'cruise-control': True, 'asr': True, 'tinted-...</td>\n",
       "      <td>20</td>\n",
       "      <td>4</td>\n",
       "      <td>{'id': '21183203', 'displacement': 2496, 'engi...</td>\n",
       "      <td>EUROPEAN</td>\n",
       "      <td>Седан</td>\n",
       "      <td>Audi</td>\n",
       "      <td>A6</td>\n",
       "      <td>II (C5) Рестайлинг</td>\n",
       "      <td>...</td>\n",
       "      <td>Налог9 000 ₽ / год</td>\n",
       "      <td>Коробкаавтоматическая</td>\n",
       "      <td>Приводполный</td>\n",
       "      <td>РульЛевый</td>\n",
       "      <td>СостояниеНе требует ремонта</td>\n",
       "      <td>Владельцы3 или более</td>\n",
       "      <td>ПТСОригинал</td>\n",
       "      <td>ТаможняРастаможен</td>\n",
       "      <td>Ролики ремни заменены в круг ,диски колодки то...</td>\n",
       "      <td>[cruise-control, asr, tinted-glass, esp, usb, ...</td>\n",
       "    </tr>\n",
       "  </tbody>\n",
       "</table>\n",
       "<p>5 rows × 27 columns</p>\n",
       "</div>"
      ],
      "text/plain": [
       "   car_id                                     equipment_dict  modelDate  \\\n",
       "0       1  {'engine-proof': True, 'alloy-wheel-disks': Tr...         21   \n",
       "1       3                                    {'alarm': True}         45   \n",
       "2       7  {'alloy-wheel-disks': True, 'ptf': True, 'roof...         28   \n",
       "4       9                               {'turnbuckle': True}         28   \n",
       "5      10  {'cruise-control': True, 'asr': True, 'tinted-...         20   \n",
       "\n",
       "   numberOfDoors                                          super_gen    vendor  \\\n",
       "0              4  {'id': '6456218', 'displacement': 1984, 'engin...  EUROPEAN   \n",
       "1              4  {'id': '6432074', 'displacement': 1569, 'engin...   RUSSIAN   \n",
       "2              3  {'id': '6433304', 'displacement': 1690, 'engin...   RUSSIAN   \n",
       "4              3  {'id': '20400417', 'name': 'Фора', 'nameplate'...   RUSSIAN   \n",
       "5              4  {'id': '21183203', 'displacement': 2496, 'engi...  EUROPEAN   \n",
       "\n",
       "            bodyType       brand  model_name       model_version  ...  \\\n",
       "0              Седан        Audi          A4             II (B6)  ...   \n",
       "1              Седан  LADA (ВАЗ)        2106           1976-2006  ...   \n",
       "2  Внедорожник 3 дв.  LADA (ВАЗ)  2121 (4x4)        I Рестайлинг  ...   \n",
       "4  Внедорожник 3 дв.  LADA (ВАЗ)  2121 (4x4)        I Рестайлинг  ...   \n",
       "5              Седан        Audi          A6  II (C5) Рестайлинг  ...   \n",
       "\n",
       "         tax_per_year    vehicleTransmission          Привод       Руль  \\\n",
       "0  Налог1 222 ₽ / год        Коробкавариатор  Приводпередний  РульЛевый   \n",
       "1    Налог983 ₽ / год    Коробкамеханическая    Приводзадний  РульЛевый   \n",
       "2    Налог948 ₽ / год    Коробкамеханическая    Приводполный  РульЛевый   \n",
       "4  Налог1 264 ₽ / год    Коробкамеханическая    Приводполный  РульЛевый   \n",
       "5  Налог9 000 ₽ / год  Коробкаавтоматическая    Приводполный  РульЛевый   \n",
       "\n",
       "                     Состояние             Владельцы          ПТС  \\\n",
       "0  СостояниеНе требует ремонта  Владельцы3 или более  ПТСОригинал   \n",
       "1  СостояниеНе требует ремонта  Владельцы2 владельца  ПТСОригинал   \n",
       "2  СостояниеНе требует ремонта  Владельцы3 или более  ПТСОригинал   \n",
       "4  СостояниеНе требует ремонта  Владельцы3 или более  ПТСОригинал   \n",
       "5  СостояниеНе требует ремонта  Владельцы3 или более  ПТСОригинал   \n",
       "\n",
       "             Таможня                                        description  \\\n",
       "0  ТаможняРастаможен   - АУДИ А4Бортовой компьютерКлимат- контрольЭл...   \n",
       "1  ТаможняРастаможен  Продам Ваз 2106 1.6 4 передачиАвто в хорошем с...   \n",
       "2  ТаможняРастаможен  отличное состояние, движок карбюратор, все раб...   \n",
       "4  ТаможняРастаможен  Нива Fora, удлиненная модель в хорошем состоян...   \n",
       "5  ТаможняРастаможен  Ролики ремни заменены в круг ,диски колодки то...   \n",
       "\n",
       "                                     equipment_dict1  \n",
       "0  [engine-proof, alloy-wheel-disks, ptf, esp, ai...  \n",
       "1                                            [alarm]  \n",
       "2  [alloy-wheel-disks, ptf, roof-rails, wheel-pow...  \n",
       "4                                       [turnbuckle]  \n",
       "5  [cruise-control, asr, tinted-glass, esp, usb, ...  \n",
       "\n",
       "[5 rows x 27 columns]"
      ]
     },
     "execution_count": 363,
     "metadata": {},
     "output_type": "execute_result"
    }
   ],
   "source": [
    "all_cars.head(5)"
   ]
  },
  {
   "cell_type": "markdown",
   "metadata": {},
   "source": [
    "прежде всего разберем данные, хранящиеся в виде словарей. Сначала предоразуем их в формат списка и извлечем нужную информацию"
   ]
  },
  {
   "cell_type": "code",
   "execution_count": 53,
   "metadata": {},
   "outputs": [
    {
     "data": {
      "text/plain": [
       "0"
      ]
     },
     "execution_count": 53,
     "metadata": {},
     "output_type": "execute_result"
    }
   ],
   "source": [
    "# преобразовываем словарь в список\n",
    "all_cars['equipment_dict'] = all_cars['equipment_dict'].str.findall(r\"'(\\b.*?\\b)'\")\n",
    "all_cars['equipment_dict'].isnull().sum()"
   ]
  },
  {
   "cell_type": "code",
   "execution_count": 56,
   "metadata": {},
   "outputs": [
    {
     "ename": "TypeError",
     "evalue": "unhashable type: 'list'",
     "output_type": "error",
     "traceback": [
      "\u001b[1;31m---------------------------------------------------------------------------\u001b[0m",
      "\u001b[1;31mTypeError\u001b[0m                                 Traceback (most recent call last)",
      "\u001b[1;32mpandas\\_libs\\hashtable_class_helper.pxi\u001b[0m in \u001b[0;36mpandas._libs.hashtable.PyObjectHashTable.map_locations\u001b[1;34m()\u001b[0m\n",
      "\u001b[1;31mTypeError\u001b[0m: unhashable type: 'list'"
     ]
    },
    {
     "name": "stderr",
     "output_type": "stream",
     "text": [
      "Exception ignored in: 'pandas._libs.index.IndexEngine._call_map_locations'\n",
      "Traceback (most recent call last):\n",
      "  File \"pandas\\_libs\\hashtable_class_helper.pxi\", line 1709, in pandas._libs.hashtable.PyObjectHashTable.map_locations\n",
      "TypeError: unhashable type: 'list'\n"
     ]
    },
    {
     "data": {
      "text/plain": [
       "[]                                                                                                                                                                                                                                                                                                                                                                                                                                                 22602\n",
       "[alarm]                                                                                                                                                                                                                                                                                                                                                                                                                                              539\n",
       "[gbo]                                                                                                                                                                                                                                                                                                                                                                                                                                                339\n",
       "[condition]                                                                                                                                                                                                                                                                                                                                                                                                                                          252\n",
       "[fabric-seats]                                                                                                                                                                                                                                                                                                                                                                                                                                       164\n",
       "                                                                                                                                                                                                                                                                                                                                                                                                                                                   ...  \n",
       "[audiosystem-cd, tinted-glass, dark-interior, leather-gear-stick, light-cleaner, ashtray-and-cigarette-lighter, front-centre-armrest, roof-rails, power-child-locks-rear-doors, wheel-power, climate-control-2, passenger-seat-updown, hatch, seat-transformation, lock, electro-mirrors, third-row-seats, seats-7, leather, spare-wheel, xenon, wheel-leather, abs, auto-mirrors, turnbuckle, 12v-socket, alarm]                                      1\n",
       "[cruise-control, alloy-wheel-disks, ptf, esp, airbag-side, mirrors-heat, electro-window-front, audiosystem-cd, leather, condition, navigation, abs, front-seats-heat, wheel-power, lock]                                                                                                                                                                                                                                                               1\n",
       "[engine-proof, airbag-driver, usb, aux, isofix, electro-window-front, heated-wash-system, ashtray-and-cigarette-lighter, airbag-passenger, computer, seat-transformation, lock, servo, fabric-seats, electro-mirrors, electro-window-back, paint-metallic, steel-wheels, mirrors-heat, audiosystem-cd, condition, abs, front-seats-heat, wheel-configuration2, wheel-configuration1, immo, third-rear-headrest]                                        1\n",
       "[glonass, esp, eco-leather, usb, aux, multi-wheel, xenon, audiosystem-tv, automatic-lighting-control, computer, navigation, keyless-entry, lock, servo, electro-mirrors, drl, alloy-wheel-disks, 18-inch-wheels, driver-seat-support, volume-sensor, auto-cruise, abs, bluetooth, immo, climate-control-1, 12v-socket]                                                                                                                                 1\n",
       "[engine-proof, tinted-glass, airbag-driver, aux, sport-seats, electro-window-front, audiopreparation, ashtray-and-cigarette-lighter, passenger-seat-updown, airbag-passenger, computer, seat-transformation, wheel-power, lock, fabric-seats, electro-mirrors, leather-gear-stick, ptf, mirrors-heat, dark-interior, folding-front-passenger-seat, cooling-box, condition, abs, wheel-leather, wheel-configuration2, immo, third-rear-headrest]        1\n",
       "Name: equipment_dict, Length: 41305, dtype: int64"
      ]
     },
     "execution_count": 56,
     "metadata": {},
     "output_type": "execute_result"
    }
   ],
   "source": [
    "all_cars['equipment_dict'].value_counts()"
   ]
  },
  {
   "cell_type": "code",
   "execution_count": 54,
   "metadata": {},
   "outputs": [
    {
     "data": {
      "text/plain": [
       "0"
      ]
     },
     "execution_count": 54,
     "metadata": {},
     "output_type": "execute_result"
    }
   ],
   "source": [
    "# преобразовываем словарь в список\n",
    "all_cars['super_gen'] = all_cars['super_gen'].str.findall(r\"'(\\b.*?\\b)'\")\n",
    "all_cars['super_gen'].isnull().sum()"
   ]
  },
  {
   "cell_type": "code",
   "execution_count": 57,
   "metadata": {},
   "outputs": [
    {
     "ename": "TypeError",
     "evalue": "unhashable type: 'list'",
     "output_type": "error",
     "traceback": [
      "\u001b[1;31m---------------------------------------------------------------------------\u001b[0m",
      "\u001b[1;31mTypeError\u001b[0m                                 Traceback (most recent call last)",
      "\u001b[1;32mpandas\\_libs\\hashtable_class_helper.pxi\u001b[0m in \u001b[0;36mpandas._libs.hashtable.PyObjectHashTable.map_locations\u001b[1;34m()\u001b[0m\n",
      "\u001b[1;31mTypeError\u001b[0m: unhashable type: 'list'"
     ]
    },
    {
     "name": "stderr",
     "output_type": "stream",
     "text": [
      "Exception ignored in: 'pandas._libs.index.IndexEngine._call_map_locations'\n",
      "Traceback (most recent call last):\n",
      "  File \"pandas\\_libs\\hashtable_class_helper.pxi\", line 1709, in pandas._libs.hashtable.PyObjectHashTable.map_locations\n",
      "TypeError: unhashable type: 'list'\n"
     ]
    },
    {
     "data": {
      "text/plain": [
       "[id, 6432524, displacement, engine_type, GASOLINE, gear_type, FORWARD_CONTROL, transmission, MECHANICAL, power, power_kvt, human_name, 1.5 MT (78 л.с.)', 'acceleration, clearance_min, fuel_rate]                                394\n",
       "[id, 20417814, displacement, engine_type, GASOLINE, gear_type, FORWARD_CONTROL, transmission, MECHANICAL, power, power_kvt, human_name, 1.6 MT (106 л.с.)', 'acceleration, clearance_min, fuel_rate]                              382\n",
       "[id, 6433307, displacement, engine_type, GASOLINE, gear_type, ALL_WHEEL_DRIVE, transmission, MECHANICAL, power, power_kvt, human_name, 1.7 MT (83 л.с.) 4WD, acceleration, clearance_min, fuel_rate]                              365\n",
       "[id, 4673109, displacement, engine_type, GASOLINE, gear_type, ALL_WHEEL_DRIVE, transmission, MECHANICAL, power, power_kvt, human_name, 1.7 MT (80 л.с.) 4WD, acceleration, clearance_min, fuel_rate]                              314\n",
       "[id, 2417288, displacement, engine_type, GASOLINE, gear_type, FORWARD_CONTROL, transmission, MECHANICAL, power, power_kvt, human_name, 1.5 MT (86 л.с.)', 'acceleration, clearance_min, fuel_rate]                                289\n",
       "                                                                                                                                                                                                                                 ... \n",
       "[id, 2455959, name, 650, nameplate, 650i, displacement, engine_type, GASOLINE, gear_type, REAR_DRIVE, transmission, AUTOMATIC, power, power_kvt, human_name, 650i 4.8 AT (367 л.с.)', 'acceleration, clearance_min, fuel_rate]      1\n",
       "[id, 21142502, displacement, engine_type, GASOLINE, gear_type, FORWARD_CONTROL, transmission, VARIATOR, power, power_kvt, human_name, 1.2 CVT (91 л.с.)', 'clearance_min, fuel_rate]                                                1\n",
       "[id, 6337718, name, nameplate, displacement, engine_type, GASOLINE, gear_type, FORWARD_CONTROL, transmission, MECHANICAL, power, power_kvt, human_name]                                                                             1\n",
       "[id, 4602581, displacement, engine_type, GASOLINE, gear_type, FORWARD_CONTROL, transmission, AUTOMATIC, power, power_kvt, human_name, 1.6 AT (101 л.с.)', 'acceleration, clearance_min, fuel_rate]                                  1\n",
       "[id, 10374335, displacement, engine_type, DIESEL, gear_type, FORWARD_CONTROL, transmission, AUTOMATIC, power, power_kvt, human_name, 2.0d AT (163 л.с.)', 'acceleration, clearance_min, fuel_rate]                                  1\n",
       "Name: super_gen, Length: 12943, dtype: int64"
      ]
     },
     "execution_count": 57,
     "metadata": {},
     "output_type": "execute_result"
    }
   ],
   "source": [
    "all_cars['super_gen'].value_counts()"
   ]
  },
  {
   "cell_type": "code",
   "execution_count": 323,
   "metadata": {},
   "outputs": [],
   "source": [
    "# как видно, в колонке equipment_dict есть пропуски. но их достаточно много, поэтому их удалять не целесообразно, пока оставим как есть"
   ]
  },
  {
   "cell_type": "markdown",
   "metadata": {},
   "source": [
    "преобразуем столбец modelDate в количество лет, как более информативные данные"
   ]
  },
  {
   "cell_type": "code",
   "execution_count": 58,
   "metadata": {},
   "outputs": [
    {
     "data": {
      "text/plain": [
       "2015    4213\n",
       "2006    3279\n",
       "2014    3195\n",
       "2011    3187\n",
       "2002    3133\n",
       "2012    3109\n",
       "2004    3010\n",
       "2010    2978\n",
       "2017    2927\n",
       "2007    2885\n",
       "2009    2766\n",
       "2000    2737\n",
       "2005    2730\n",
       "2013    2657\n",
       "2018    2503\n",
       "2001    2464\n",
       "2016    2322\n",
       "2003    2289\n",
       "2008    2269\n",
       "1999    2110\n",
       "1998    2011\n",
       "1997    1830\n",
       "2020    1812\n",
       "2019    1307\n",
       "1993    1248\n",
       "1995    1119\n",
       "1982     843\n",
       "1987     607\n",
       "1990     491\n",
       "1996     320\n",
       "1994     275\n",
       "1984     230\n",
       "1985     222\n",
       "1979     200\n",
       "1976     134\n",
       "2021     117\n",
       "{}        87\n",
       "1992      49\n",
       "1991      31\n",
       "1989      18\n",
       "1983      12\n",
       "1988       6\n",
       "1950       3\n",
       "1972       1\n",
       "1981       1\n",
       "Name: modelDate, dtype: int64"
      ]
     },
     "execution_count": 58,
     "metadata": {},
     "output_type": "execute_result"
    }
   ],
   "source": [
    "# но сначала проверим на наличие пропусков\n",
    "all_cars['modelDate'].value_counts()"
   ]
  },
  {
   "cell_type": "code",
   "execution_count": 59,
   "metadata": {},
   "outputs": [
    {
     "data": {
      "text/html": [
       "<div>\n",
       "<style scoped>\n",
       "    .dataframe tbody tr th:only-of-type {\n",
       "        vertical-align: middle;\n",
       "    }\n",
       "\n",
       "    .dataframe tbody tr th {\n",
       "        vertical-align: top;\n",
       "    }\n",
       "\n",
       "    .dataframe thead th {\n",
       "        text-align: right;\n",
       "    }\n",
       "</style>\n",
       "<table border=\"1\" class=\"dataframe\">\n",
       "  <thead>\n",
       "    <tr style=\"text-align: right;\">\n",
       "      <th></th>\n",
       "      <th>car_id</th>\n",
       "      <th>equipment_dict</th>\n",
       "      <th>modelDate</th>\n",
       "      <th>numberOfDoors</th>\n",
       "      <th>super_gen</th>\n",
       "      <th>vendor</th>\n",
       "      <th>price_segment</th>\n",
       "      <th>mark_info</th>\n",
       "      <th>model_info</th>\n",
       "      <th>bodyType</th>\n",
       "      <th>...</th>\n",
       "      <th>fuelType</th>\n",
       "      <th>tax_per_year</th>\n",
       "      <th>vehicleTransmission</th>\n",
       "      <th>Привод</th>\n",
       "      <th>Руль</th>\n",
       "      <th>Состояние</th>\n",
       "      <th>Владельцы</th>\n",
       "      <th>ПТС</th>\n",
       "      <th>Таможня</th>\n",
       "      <th>description</th>\n",
       "    </tr>\n",
       "  </thead>\n",
       "  <tbody>\n",
       "    <tr>\n",
       "      <th>0</th>\n",
       "      <td>1</td>\n",
       "      <td>[engine-proof, alloy-wheel-disks, ptf, esp, ai...</td>\n",
       "      <td>2000</td>\n",
       "      <td>4</td>\n",
       "      <td>[id, 6456218, displacement, engine_type, GASOL...</td>\n",
       "      <td>EUROPEAN</td>\n",
       "      <td>PREMIUM</td>\n",
       "      <td>Audi</td>\n",
       "      <td>A4</td>\n",
       "      <td>Седан</td>\n",
       "      <td>...</td>\n",
       "      <td>Бензин</td>\n",
       "      <td>Налог1 222 ₽ / год</td>\n",
       "      <td>Коробкавариатор</td>\n",
       "      <td>Приводпередний</td>\n",
       "      <td>РульЛевый</td>\n",
       "      <td>СостояниеНе требует ремонта</td>\n",
       "      <td>Владельцы3 или более</td>\n",
       "      <td>ПТСОригинал</td>\n",
       "      <td>ТаможняРастаможен</td>\n",
       "      <td>- АУДИ А4Бортовой компьютерКлимат- контрольЭл...</td>\n",
       "    </tr>\n",
       "    <tr>\n",
       "      <th>1</th>\n",
       "      <td>3</td>\n",
       "      <td>[alarm]</td>\n",
       "      <td>1976</td>\n",
       "      <td>4</td>\n",
       "      <td>[id, 6432074, displacement, engine_type, GASOL...</td>\n",
       "      <td>RUSSIAN</td>\n",
       "      <td>ECONOMY</td>\n",
       "      <td>LADA (ВАЗ)</td>\n",
       "      <td>2106</td>\n",
       "      <td>Седан</td>\n",
       "      <td>...</td>\n",
       "      <td>Бензин</td>\n",
       "      <td>Налог983 ₽ / год</td>\n",
       "      <td>Коробкамеханическая</td>\n",
       "      <td>Приводзадний</td>\n",
       "      <td>РульЛевый</td>\n",
       "      <td>СостояниеНе требует ремонта</td>\n",
       "      <td>Владельцы2 владельца</td>\n",
       "      <td>ПТСОригинал</td>\n",
       "      <td>ТаможняРастаможен</td>\n",
       "      <td>Продам Ваз 2106 1.6 4 передачиАвто в хорошем с...</td>\n",
       "    </tr>\n",
       "    <tr>\n",
       "      <th>2</th>\n",
       "      <td>7</td>\n",
       "      <td>[alloy-wheel-disks, ptf, roof-rails, wheel-pow...</td>\n",
       "      <td>1993</td>\n",
       "      <td>3</td>\n",
       "      <td>[id, 6433304, displacement, engine_type, GASOL...</td>\n",
       "      <td>RUSSIAN</td>\n",
       "      <td>ECONOMY</td>\n",
       "      <td>LADA (ВАЗ)</td>\n",
       "      <td>2121 (4x4)</td>\n",
       "      <td>Внедорожник 3 дв.</td>\n",
       "      <td>...</td>\n",
       "      <td>Бензин</td>\n",
       "      <td>Налог948 ₽ / год</td>\n",
       "      <td>Коробкамеханическая</td>\n",
       "      <td>Приводполный</td>\n",
       "      <td>РульЛевый</td>\n",
       "      <td>СостояниеНе требует ремонта</td>\n",
       "      <td>Владельцы3 или более</td>\n",
       "      <td>ПТСОригинал</td>\n",
       "      <td>ТаможняРастаможен</td>\n",
       "      <td>отличное состояние, движок карбюратор, все раб...</td>\n",
       "    </tr>\n",
       "    <tr>\n",
       "      <th>4</th>\n",
       "      <td>9</td>\n",
       "      <td>[turnbuckle]</td>\n",
       "      <td>1993</td>\n",
       "      <td>3</td>\n",
       "      <td>[id, 20400417, name, Фора, nameplate, Фора, di...</td>\n",
       "      <td>RUSSIAN</td>\n",
       "      <td>ECONOMY</td>\n",
       "      <td>LADA (ВАЗ)</td>\n",
       "      <td>2121 (4x4)</td>\n",
       "      <td>Внедорожник 3 дв.</td>\n",
       "      <td>...</td>\n",
       "      <td>Бензин</td>\n",
       "      <td>Налог1 264 ₽ / год</td>\n",
       "      <td>Коробкамеханическая</td>\n",
       "      <td>Приводполный</td>\n",
       "      <td>РульЛевый</td>\n",
       "      <td>СостояниеНе требует ремонта</td>\n",
       "      <td>Владельцы3 или более</td>\n",
       "      <td>ПТСОригинал</td>\n",
       "      <td>ТаможняРастаможен</td>\n",
       "      <td>Нива Fora, удлиненная модель в хорошем состоян...</td>\n",
       "    </tr>\n",
       "    <tr>\n",
       "      <th>5</th>\n",
       "      <td>10</td>\n",
       "      <td>[cruise-control, asr, tinted-glass, esp, usb, ...</td>\n",
       "      <td>2001</td>\n",
       "      <td>4</td>\n",
       "      <td>[id, 21183203, displacement, engine_type, DIES...</td>\n",
       "      <td>EUROPEAN</td>\n",
       "      <td>PREMIUM</td>\n",
       "      <td>Audi</td>\n",
       "      <td>A6</td>\n",
       "      <td>Седан</td>\n",
       "      <td>...</td>\n",
       "      <td>Дизель</td>\n",
       "      <td>Налог9 000 ₽ / год</td>\n",
       "      <td>Коробкаавтоматическая</td>\n",
       "      <td>Приводполный</td>\n",
       "      <td>РульЛевый</td>\n",
       "      <td>СостояниеНе требует ремонта</td>\n",
       "      <td>Владельцы3 или более</td>\n",
       "      <td>ПТСОригинал</td>\n",
       "      <td>ТаможняРастаможен</td>\n",
       "      <td>Ролики ремни заменены в круг ,диски колодки то...</td>\n",
       "    </tr>\n",
       "    <tr>\n",
       "      <th>...</th>\n",
       "      <td>...</td>\n",
       "      <td>...</td>\n",
       "      <td>...</td>\n",
       "      <td>...</td>\n",
       "      <td>...</td>\n",
       "      <td>...</td>\n",
       "      <td>...</td>\n",
       "      <td>...</td>\n",
       "      <td>...</td>\n",
       "      <td>...</td>\n",
       "      <td>...</td>\n",
       "      <td>...</td>\n",
       "      <td>...</td>\n",
       "      <td>...</td>\n",
       "      <td>...</td>\n",
       "      <td>...</td>\n",
       "      <td>...</td>\n",
       "      <td>...</td>\n",
       "      <td>...</td>\n",
       "      <td>...</td>\n",
       "      <td>...</td>\n",
       "    </tr>\n",
       "    <tr>\n",
       "      <th>69838</th>\n",
       "      <td>80581</td>\n",
       "      <td>[power-latching-doors, projection-display, air...</td>\n",
       "      <td>2019</td>\n",
       "      <td>5</td>\n",
       "      <td>[id, 21611056, name, 40i, nameplate, 40i, disp...</td>\n",
       "      <td>{}</td>\n",
       "      <td>PREMIUM</td>\n",
       "      <td>BMW</td>\n",
       "      <td>X6</td>\n",
       "      <td>Внедорожник 5 дв.</td>\n",
       "      <td>...</td>\n",
       "      <td>Бензин</td>\n",
       "      <td>Налог102 000 ₽ / год</td>\n",
       "      <td>Коробкаавтоматическая</td>\n",
       "      <td>Приводполный</td>\n",
       "      <td>РульЛевый</td>\n",
       "      <td>СостояниеНе требует ремонта</td>\n",
       "      <td>Владельцы1 владелец</td>\n",
       "      <td>ПТСОригинал</td>\n",
       "      <td>ТаможняРастаможен</td>\n",
       "      <td>Американская сборка с ассистентом вождения Pro...</td>\n",
       "    </tr>\n",
       "    <tr>\n",
       "      <th>69839</th>\n",
       "      <td>80582</td>\n",
       "      <td>[cruise-control, asr, esp, usb, e-adjustment-w...</td>\n",
       "      <td>2020</td>\n",
       "      <td>4</td>\n",
       "      <td>[id, 22851071, name, 350, nameplate, 350 d, di...</td>\n",
       "      <td>EUROPEAN</td>\n",
       "      <td>PREMIUM</td>\n",
       "      <td>Mercedes-Benz</td>\n",
       "      <td>E-Класс</td>\n",
       "      <td>Седан</td>\n",
       "      <td>...</td>\n",
       "      <td>Дизель</td>\n",
       "      <td>Налог18 675 ₽ / год</td>\n",
       "      <td>Коробкаавтоматическая</td>\n",
       "      <td>Приводполный</td>\n",
       "      <td>РульЛевый</td>\n",
       "      <td>СостояниеНе требует ремонта</td>\n",
       "      <td>Владельцы1 владелец</td>\n",
       "      <td>ПТСОригинал</td>\n",
       "      <td>ТаможняРастаможен</td>\n",
       "      <td>Немецкая сборка ! Новый автомобиль без собстве...</td>\n",
       "    </tr>\n",
       "    <tr>\n",
       "      <th>69840</th>\n",
       "      <td>80583</td>\n",
       "      <td>[condition, esp, electro-window-front, electro...</td>\n",
       "      <td>2015</td>\n",
       "      <td>4</td>\n",
       "      <td>[id, 20417814, displacement, engine_type, GASO...</td>\n",
       "      <td>RUSSIAN</td>\n",
       "      <td>ECONOMY</td>\n",
       "      <td>LADA (ВАЗ)</td>\n",
       "      <td>Vesta</td>\n",
       "      <td>Седан</td>\n",
       "      <td>...</td>\n",
       "      <td>Бензин</td>\n",
       "      <td>Налог3 604 ₽ / год</td>\n",
       "      <td>Коробкамеханическая</td>\n",
       "      <td>Приводпередний</td>\n",
       "      <td>РульЛевый</td>\n",
       "      <td>СостояниеНе требует ремонта</td>\n",
       "      <td>Владельцы1 владелец</td>\n",
       "      <td>ПТСОригинал</td>\n",
       "      <td>ТаможняРастаможен</td>\n",
       "      <td>Ключевые опции авто:- передние стеклоподъемник...</td>\n",
       "    </tr>\n",
       "    <tr>\n",
       "      <th>69841</th>\n",
       "      <td>80584</td>\n",
       "      <td>[]</td>\n",
       "      <td>2020</td>\n",
       "      <td>4</td>\n",
       "      <td>[id, 22462414, displacement, engine_type, GASO...</td>\n",
       "      <td>KOREAN</td>\n",
       "      <td>MEDIUM</td>\n",
       "      <td>Kia</td>\n",
       "      <td>K5</td>\n",
       "      <td>Седан</td>\n",
       "      <td>...</td>\n",
       "      <td>Бензин</td>\n",
       "      <td>Налог4 850 ₽ / год</td>\n",
       "      <td>Коробкаавтоматическая</td>\n",
       "      <td>Приводпередний</td>\n",
       "      <td>РульЛевый</td>\n",
       "      <td>СостояниеНе требует ремонта</td>\n",
       "      <td>Владельцы1 владелец</td>\n",
       "      <td>ПТСОригинал</td>\n",
       "      <td>ТаможняРастаможен</td>\n",
       "      <td>Все вопросы по тел</td>\n",
       "    </tr>\n",
       "    <tr>\n",
       "      <th>69842</th>\n",
       "      <td>80585</td>\n",
       "      <td>[front-seats-heat-vent, start-stop-function, a...</td>\n",
       "      <td>2018</td>\n",
       "      <td>5</td>\n",
       "      <td>[id, 21307095, displacement, engine_type, DIES...</td>\n",
       "      <td>EUROPEAN</td>\n",
       "      <td>PREMIUM</td>\n",
       "      <td>Volkswagen</td>\n",
       "      <td>Touareg</td>\n",
       "      <td>Внедорожник 5 дв.</td>\n",
       "      <td>...</td>\n",
       "      <td>Дизель</td>\n",
       "      <td>Налог18 675 ₽ / год</td>\n",
       "      <td>Коробкаавтоматическая</td>\n",
       "      <td>Приводполный</td>\n",
       "      <td>РульЛевый</td>\n",
       "      <td>СостояниеНе требует ремонта</td>\n",
       "      <td>Владельцы1 владелец</td>\n",
       "      <td>ПТСОригинал</td>\n",
       "      <td>ТаможняРастаможен</td>\n",
       "      <td>С 28 октября по 7 ноября 2021 года дилерский ц...</td>\n",
       "    </tr>\n",
       "  </tbody>\n",
       "</table>\n",
       "<p>69650 rows × 31 columns</p>\n",
       "</div>"
      ],
      "text/plain": [
       "       car_id                                     equipment_dict modelDate  \\\n",
       "0           1  [engine-proof, alloy-wheel-disks, ptf, esp, ai...      2000   \n",
       "1           3                                            [alarm]      1976   \n",
       "2           7  [alloy-wheel-disks, ptf, roof-rails, wheel-pow...      1993   \n",
       "4           9                                       [turnbuckle]      1993   \n",
       "5          10  [cruise-control, asr, tinted-glass, esp, usb, ...      2001   \n",
       "...       ...                                                ...       ...   \n",
       "69838   80581  [power-latching-doors, projection-display, air...      2019   \n",
       "69839   80582  [cruise-control, asr, esp, usb, e-adjustment-w...      2020   \n",
       "69840   80583  [condition, esp, electro-window-front, electro...      2015   \n",
       "69841   80584                                                 []      2020   \n",
       "69842   80585  [front-seats-heat-vent, start-stop-function, a...      2018   \n",
       "\n",
       "      numberOfDoors                                          super_gen  \\\n",
       "0                 4  [id, 6456218, displacement, engine_type, GASOL...   \n",
       "1                 4  [id, 6432074, displacement, engine_type, GASOL...   \n",
       "2                 3  [id, 6433304, displacement, engine_type, GASOL...   \n",
       "4                 3  [id, 20400417, name, Фора, nameplate, Фора, di...   \n",
       "5                 4  [id, 21183203, displacement, engine_type, DIES...   \n",
       "...             ...                                                ...   \n",
       "69838             5  [id, 21611056, name, 40i, nameplate, 40i, disp...   \n",
       "69839             4  [id, 22851071, name, 350, nameplate, 350 d, di...   \n",
       "69840             4  [id, 20417814, displacement, engine_type, GASO...   \n",
       "69841             4  [id, 22462414, displacement, engine_type, GASO...   \n",
       "69842             5  [id, 21307095, displacement, engine_type, DIES...   \n",
       "\n",
       "         vendor price_segment      mark_info  model_info           bodyType  \\\n",
       "0      EUROPEAN       PREMIUM           Audi          A4              Седан   \n",
       "1       RUSSIAN       ECONOMY     LADA (ВАЗ)        2106              Седан   \n",
       "2       RUSSIAN       ECONOMY     LADA (ВАЗ)  2121 (4x4)  Внедорожник 3 дв.   \n",
       "4       RUSSIAN       ECONOMY     LADA (ВАЗ)  2121 (4x4)  Внедорожник 3 дв.   \n",
       "5      EUROPEAN       PREMIUM           Audi          A6              Седан   \n",
       "...         ...           ...            ...         ...                ...   \n",
       "69838        {}       PREMIUM            BMW          X6  Внедорожник 5 дв.   \n",
       "69839  EUROPEAN       PREMIUM  Mercedes-Benz     E-Класс              Седан   \n",
       "69840   RUSSIAN       ECONOMY     LADA (ВАЗ)       Vesta              Седан   \n",
       "69841    KOREAN        MEDIUM            Kia          K5              Седан   \n",
       "69842  EUROPEAN       PREMIUM     Volkswagen     Touareg  Внедорожник 5 дв.   \n",
       "\n",
       "       ... fuelType          tax_per_year    vehicleTransmission  \\\n",
       "0      ...   Бензин    Налог1 222 ₽ / год        Коробкавариатор   \n",
       "1      ...   Бензин      Налог983 ₽ / год    Коробкамеханическая   \n",
       "2      ...   Бензин      Налог948 ₽ / год    Коробкамеханическая   \n",
       "4      ...   Бензин    Налог1 264 ₽ / год    Коробкамеханическая   \n",
       "5      ...   Дизель    Налог9 000 ₽ / год  Коробкаавтоматическая   \n",
       "...    ...      ...                   ...                    ...   \n",
       "69838  ...   Бензин  Налог102 000 ₽ / год  Коробкаавтоматическая   \n",
       "69839  ...   Дизель   Налог18 675 ₽ / год  Коробкаавтоматическая   \n",
       "69840  ...   Бензин    Налог3 604 ₽ / год    Коробкамеханическая   \n",
       "69841  ...   Бензин    Налог4 850 ₽ / год  Коробкаавтоматическая   \n",
       "69842  ...   Дизель   Налог18 675 ₽ / год  Коробкаавтоматическая   \n",
       "\n",
       "               Привод       Руль                    Состояние  \\\n",
       "0      Приводпередний  РульЛевый  СостояниеНе требует ремонта   \n",
       "1        Приводзадний  РульЛевый  СостояниеНе требует ремонта   \n",
       "2        Приводполный  РульЛевый  СостояниеНе требует ремонта   \n",
       "4        Приводполный  РульЛевый  СостояниеНе требует ремонта   \n",
       "5        Приводполный  РульЛевый  СостояниеНе требует ремонта   \n",
       "...               ...        ...                          ...   \n",
       "69838    Приводполный  РульЛевый  СостояниеНе требует ремонта   \n",
       "69839    Приводполный  РульЛевый  СостояниеНе требует ремонта   \n",
       "69840  Приводпередний  РульЛевый  СостояниеНе требует ремонта   \n",
       "69841  Приводпередний  РульЛевый  СостояниеНе требует ремонта   \n",
       "69842    Приводполный  РульЛевый  СостояниеНе требует ремонта   \n",
       "\n",
       "                  Владельцы          ПТС            Таможня  \\\n",
       "0      Владельцы3 или более  ПТСОригинал  ТаможняРастаможен   \n",
       "1      Владельцы2 владельца  ПТСОригинал  ТаможняРастаможен   \n",
       "2      Владельцы3 или более  ПТСОригинал  ТаможняРастаможен   \n",
       "4      Владельцы3 или более  ПТСОригинал  ТаможняРастаможен   \n",
       "5      Владельцы3 или более  ПТСОригинал  ТаможняРастаможен   \n",
       "...                     ...          ...                ...   \n",
       "69838   Владельцы1 владелец  ПТСОригинал  ТаможняРастаможен   \n",
       "69839   Владельцы1 владелец  ПТСОригинал  ТаможняРастаможен   \n",
       "69840   Владельцы1 владелец  ПТСОригинал  ТаможняРастаможен   \n",
       "69841   Владельцы1 владелец  ПТСОригинал  ТаможняРастаможен   \n",
       "69842   Владельцы1 владелец  ПТСОригинал  ТаможняРастаможен   \n",
       "\n",
       "                                             description  \n",
       "0       - АУДИ А4Бортовой компьютерКлимат- контрольЭл...  \n",
       "1      Продам Ваз 2106 1.6 4 передачиАвто в хорошем с...  \n",
       "2      отличное состояние, движок карбюратор, все раб...  \n",
       "4      Нива Fora, удлиненная модель в хорошем состоян...  \n",
       "5      Ролики ремни заменены в круг ,диски колодки то...  \n",
       "...                                                  ...  \n",
       "69838  Американская сборка с ассистентом вождения Pro...  \n",
       "69839  Немецкая сборка ! Новый автомобиль без собстве...  \n",
       "69840  Ключевые опции авто:- передние стеклоподъемник...  \n",
       "69841                                 Все вопросы по тел  \n",
       "69842  С 28 октября по 7 ноября 2021 года дилерский ц...  \n",
       "\n",
       "[69650 rows x 31 columns]"
      ]
     },
     "execution_count": 59,
     "metadata": {},
     "output_type": "execute_result"
    }
   ],
   "source": [
    "#  данных с пропусками не много - 87 строк, можем их удалить\n",
    "all_cars = all_cars.loc[all_cars['modelDate'] != '{}']\n",
    "all_cars"
   ]
  },
  {
   "cell_type": "code",
   "execution_count": 60,
   "metadata": {},
   "outputs": [],
   "source": [
    "# преобразуем данные в числовой формат и трансформируем в кол-во лет\n",
    "all_cars['modelDate'] = all_cars['modelDate'].apply(lambda x: int(x))\n",
    "all_cars['modelDate'] = 2021 - all_cars['modelDate']"
   ]
  },
  {
   "cell_type": "code",
   "execution_count": 61,
   "metadata": {},
   "outputs": [
    {
     "data": {
      "text/plain": [
       "6     4213\n",
       "15    3279\n",
       "7     3195\n",
       "10    3187\n",
       "19    3133\n",
       "9     3109\n",
       "17    3010\n",
       "11    2978\n",
       "4     2927\n",
       "14    2885\n",
       "12    2766\n",
       "21    2737\n",
       "16    2730\n",
       "8     2657\n",
       "3     2503\n",
       "20    2464\n",
       "5     2322\n",
       "18    2289\n",
       "13    2269\n",
       "22    2110\n",
       "23    2011\n",
       "24    1830\n",
       "1     1812\n",
       "2     1307\n",
       "28    1248\n",
       "26    1119\n",
       "39     843\n",
       "34     607\n",
       "31     491\n",
       "25     320\n",
       "27     275\n",
       "37     230\n",
       "36     222\n",
       "42     200\n",
       "45     134\n",
       "0      117\n",
       "29      49\n",
       "30      31\n",
       "32      18\n",
       "38      12\n",
       "33       6\n",
       "71       3\n",
       "40       1\n",
       "49       1\n",
       "Name: modelDate, dtype: int64"
      ]
     },
     "execution_count": 61,
     "metadata": {},
     "output_type": "execute_result"
    }
   ],
   "source": [
    "all_cars['modelDate'].value_counts()"
   ]
  },
  {
   "cell_type": "code",
   "execution_count": 62,
   "metadata": {},
   "outputs": [],
   "source": [
    "# приводим к числовому формату признак кол-во дверей\n",
    "all_cars['numberOfDoors'] = all_cars['numberOfDoors'].apply(lambda x: int(x))"
   ]
  },
  {
   "cell_type": "code",
   "execution_count": 63,
   "metadata": {},
   "outputs": [],
   "source": [
    "# преобразуем данные в числовой формат и трансформируем в кол-во лет\n",
    "all_cars['productionDate'] = all_cars['productionDate'].apply(lambda x: int(x))\n",
    "all_cars['productionDate'] = 2021 - all_cars['productionDate']"
   ]
  },
  {
   "cell_type": "code",
   "execution_count": 64,
   "metadata": {},
   "outputs": [
    {
     "data": {
      "text/plain": [
       " в Москве                13900\n",
       " в Санкт-Петербурге       4585\n",
       " в Екатеринбурге          2172\n",
       " в Краснодаре             1713\n",
       " в Красноярске            1467\n",
       "                         ...  \n",
       " в Кордяге                   1\n",
       " в Сарманове                 1\n",
       " в Рахманове                 1\n",
       " в Мурманской области        1\n",
       " в Кудряшовском              1\n",
       "Name: car_city, Length: 2856, dtype: int64"
      ]
     },
     "execution_count": 64,
     "metadata": {},
     "output_type": "execute_result"
    }
   ],
   "source": [
    "# рассмотрим признак городов, т.к налоговая ставка отличаестя по регионам\n",
    "all_cars['car_city'].value_counts()\n",
    "# данные городов можно удалить, т.к нам важна цена, на которую влияет размер налога, данные о котором в датасете имеется"
   ]
  },
  {
   "cell_type": "code",
   "execution_count": 65,
   "metadata": {},
   "outputs": [
    {
     "data": {
      "text/plain": [
       "350000.0     823\n",
       "250000.0     775\n",
       "450000.0     741\n",
       "550000.0     731\n",
       "650000.0     704\n",
       "            ... \n",
       "440044.0       1\n",
       "1145900.0      1\n",
       "2325000.0      1\n",
       "1235999.0      1\n",
       "1645900.0      1\n",
       "Name: car_price, Length: 5370, dtype: int64"
      ]
     },
     "execution_count": 65,
     "metadata": {},
     "output_type": "execute_result"
    }
   ],
   "source": [
    "# рассмотрим признак цены, целевой переменной, очистим ее, преобразуем в число, удалим исходный столбец\n",
    "all_cars['car_price'] = all_cars['car_price'].str.replace(('\\xa0'), '')\n",
    "all_cars['car_price'] = all_cars['car_price'].str.replace(('₽'), '')\n",
    "all_cars['car_price'] = all_cars['car_price'].astype('float64')\n",
    "all_cars['car_price'].value_counts()"
   ]
  },
  {
   "cell_type": "code",
   "execution_count": 66,
   "metadata": {},
   "outputs": [
    {
     "data": {
      "text/plain": [
       "Пробег200 000 км    1268\n",
       "Пробег150 000 км    1040\n",
       "Пробег250 000 км     834\n",
       "Пробег180 000 км     795\n",
       "Пробег160 000 км     701\n",
       "                    ... \n",
       "Пробег139 285 км       1\n",
       "Пробег161 003 км       1\n",
       "Пробег349 700 км       1\n",
       "Пробег99 200 км        1\n",
       "Пробег130 466 км       1\n",
       "Name: mileage, Length: 17307, dtype: int64"
      ]
     },
     "execution_count": 66,
     "metadata": {},
     "output_type": "execute_result"
    }
   ],
   "source": [
    "# приводим к числовому формату признак киломеража\n",
    "all_cars['mileage'].value_counts()"
   ]
  },
  {
   "cell_type": "code",
   "execution_count": 67,
   "metadata": {},
   "outputs": [
    {
     "data": {
      "text/plain": [
       "0        160000\n",
       "1         79000\n",
       "2        150000\n",
       "4        126000\n",
       "5        272000\n",
       "          ...  \n",
       "69838     16000\n",
       "69839      4900\n",
       "69840     12673\n",
       "69841     38000\n",
       "69842     11323\n",
       "Name: mileage, Length: 69650, dtype: int64"
      ]
     },
     "execution_count": 67,
     "metadata": {},
     "output_type": "execute_result"
    }
   ],
   "source": [
    "# сначала очиаем от лишних данных и символов, удаляем исходный стоблец\n",
    "all_cars['mileage'] = all_cars['mileage'].str.replace(('Пробег'), '')\n",
    "all_cars['mileage'] = all_cars['mileage'].str.replace(('км'), '')\n",
    "all_cars['mileage'] = all_cars['mileage'].str.replace(('\\xa0'), '')\n",
    "all_cars['mileage'] = all_cars['mileage'].apply(lambda x: int(x))\n",
    "all_cars['mileage']"
   ]
  },
  {
   "cell_type": "code",
   "execution_count": 68,
   "metadata": {},
   "outputs": [
    {
     "data": {
      "text/plain": [
       "Налог5 250 ₽ / год     1871\n",
       "Налог18 675 ₽ / год    1397\n",
       "Налог4 900 ₽ / год      587\n",
       "Налог9 200 ₽ / год      496\n",
       "Налог3 075 ₽ / год      481\n",
       "                       ... \n",
       "Налог1 702 ₽ / год        1\n",
       "Налог30 200 ₽ / год       1\n",
       "Налог26 928 ₽ / год       1\n",
       "Налог3 893 ₽ / год        1\n",
       "Налог5 580 ₽ / год        1\n",
       "Name: tax_per_year, Length: 3419, dtype: int64"
      ]
     },
     "execution_count": 68,
     "metadata": {},
     "output_type": "execute_result"
    }
   ],
   "source": [
    "# рассмотрим признак годовой налоговой ставки\n",
    "all_cars['tax_per_year'].value_counts()"
   ]
  },
  {
   "cell_type": "code",
   "execution_count": 69,
   "metadata": {},
   "outputs": [
    {
     "data": {
      "text/plain": [
       "5250     1871\n",
       "18675    1397\n",
       "4900      587\n",
       "9200      496\n",
       "3075      481\n",
       "         ... \n",
       "1644        1\n",
       "83460       1\n",
       "34300       1\n",
       "95420       1\n",
       "2047        1\n",
       "Name: tax_per_year, Length: 3419, dtype: int64"
      ]
     },
     "execution_count": 69,
     "metadata": {},
     "output_type": "execute_result"
    }
   ],
   "source": [
    "# очистим показатель и приведем ее к числу\n",
    "all_cars['tax_per_year'] = all_cars['tax_per_year'].str.replace(('Налог'), '')\n",
    "all_cars['tax_per_year'] = all_cars['tax_per_year'].str.replace(('₽ / год'), '')\n",
    "all_cars['tax_per_year'] = all_cars['tax_per_year'].str.replace(('\\xa0'), '')\n",
    "all_cars['tax_per_year'] = all_cars['tax_per_year'].apply(lambda x: int(x))\n",
    "all_cars['tax_per_year'].value_counts()"
   ]
  },
  {
   "cell_type": "code",
   "execution_count": 70,
   "metadata": {},
   "outputs": [
    {
     "data": {
      "text/plain": [
       "Коробкаавтоматическая      31240\n",
       "Коробкамеханическая        29644\n",
       "Коробкавариатор             4390\n",
       "Коробкароботизированная     4376\n",
       "Name: vehicleTransmission, dtype: int64"
      ]
     },
     "execution_count": 70,
     "metadata": {},
     "output_type": "execute_result"
    }
   ],
   "source": [
    "# рассмотрим признак трансмиссии\n",
    "all_cars['vehicleTransmission'].value_counts()"
   ]
  },
  {
   "cell_type": "code",
   "execution_count": 71,
   "metadata": {},
   "outputs": [
    {
     "data": {
      "text/plain": [
       "автоматическая      31240\n",
       "механическая        29644\n",
       "вариатор             4390\n",
       "роботизированная     4376\n",
       "Name: vehicleTransmission, dtype: int64"
      ]
     },
     "execution_count": 71,
     "metadata": {},
     "output_type": "execute_result"
    }
   ],
   "source": [
    "all_cars['vehicleTransmission'] = all_cars['vehicleTransmission'].map({'Коробкаавтоматическая': 'автоматическая', \n",
    "                                   'Коробкамеханическая': 'механическая', 'Коробкавариатор': 'вариатор', \n",
    "                                   'Коробкароботизированная': 'роботизированная' })\n",
    "all_cars['vehicleTransmission'].value_counts()"
   ]
  },
  {
   "cell_type": "code",
   "execution_count": 72,
   "metadata": {},
   "outputs": [
    {
     "data": {
      "text/plain": [
       "Приводпередний    39954\n",
       "Приводполный      23580\n",
       "Приводзадний       6116\n",
       "Name: Привод, dtype: int64"
      ]
     },
     "execution_count": 72,
     "metadata": {},
     "output_type": "execute_result"
    }
   ],
   "source": [
    "# рассмотрим признак привода\n",
    "all_cars['Привод'].value_counts()"
   ]
  },
  {
   "cell_type": "code",
   "execution_count": 73,
   "metadata": {},
   "outputs": [
    {
     "data": {
      "text/plain": [
       "передний    39954\n",
       "полный      23580\n",
       "задний       6116\n",
       "Name: Привод, dtype: int64"
      ]
     },
     "execution_count": 73,
     "metadata": {},
     "output_type": "execute_result"
    }
   ],
   "source": [
    "all_cars['Привод'] = all_cars['Привод'].str.replace(('Привод'), '')\n",
    "all_cars['Привод'].value_counts()"
   ]
  },
  {
   "cell_type": "code",
   "execution_count": 74,
   "metadata": {},
   "outputs": [
    {
     "data": {
      "text/plain": [
       "Левый     65522\n",
       "Правый     4128\n",
       "Name: Руль, dtype: int64"
      ]
     },
     "execution_count": 74,
     "metadata": {},
     "output_type": "execute_result"
    }
   ],
   "source": [
    "# рассмотрим расположение руля\n",
    "all_cars['Руль'] = all_cars['Руль'].str.replace(('Руль'), '')\n",
    "all_cars['Руль'].value_counts()"
   ]
  },
  {
   "cell_type": "code",
   "execution_count": 75,
   "metadata": {},
   "outputs": [
    {
     "data": {
      "text/plain": [
       "Не требует ремонта    69650\n",
       "Name: Состояние, dtype: int64"
      ]
     },
     "execution_count": 75,
     "metadata": {},
     "output_type": "execute_result"
    }
   ],
   "source": [
    "# рассмотрим признак состояния авто\n",
    "all_cars['Состояние'] = all_cars['Состояние'].str.replace(('Состояние'), '')\n",
    "all_cars['Состояние'].value_counts()"
   ]
  },
  {
   "cell_type": "code",
   "execution_count": 76,
   "metadata": {},
   "outputs": [
    {
     "data": {
      "text/plain": [
       "3    33793\n",
       "1    20238\n",
       "2    15619\n",
       "Name: Владельцы, dtype: int64"
      ]
     },
     "execution_count": 76,
     "metadata": {},
     "output_type": "execute_result"
    }
   ],
   "source": [
    "# рассмотрим количество владельцев и сразу преобразуем в числовой формат\n",
    "all_cars['Владельцы'] = all_cars['Владельцы'].str.replace(('Владельцы'), '')\n",
    "owners_dict = {'1\\xa0владелец': 1,\n",
    "               '2\\xa0владельца': 2,\n",
    "               '3 или более': 3\n",
    "               }\n",
    "all_cars.Владельцы = all_cars.Владельцы.map(owners_dict)\n",
    "all_cars['Владельцы'].value_counts()"
   ]
  },
  {
   "cell_type": "code",
   "execution_count": 77,
   "metadata": {},
   "outputs": [
    {
     "data": {
      "text/plain": [
       "Оригинал    59272\n",
       "Дубликат    10378\n",
       "Name: ПТС, dtype: int64"
      ]
     },
     "execution_count": 77,
     "metadata": {},
     "output_type": "execute_result"
    }
   ],
   "source": [
    "all_cars['ПТС'] = all_cars['ПТС'].str.replace(('ПТС'), '')\n",
    "all_cars['ПТС'].value_counts()"
   ]
  },
  {
   "cell_type": "code",
   "execution_count": 84,
   "metadata": {},
   "outputs": [
    {
     "data": {
      "text/plain": [
       "Растаможен    69650\n",
       "Name: Таможня, dtype: int64"
      ]
     },
     "execution_count": 84,
     "metadata": {},
     "output_type": "execute_result"
    }
   ],
   "source": [
    "all_cars['Таможня'] = all_cars['Таможня'].str.replace(('Таможня'), '')\n",
    "all_cars['Таможня'].value_counts()"
   ]
  },
  {
   "cell_type": "code",
   "execution_count": 78,
   "metadata": {},
   "outputs": [
    {
     "data": {
      "text/plain": [
       "0                  2.0 CVT (130 л.с.)\n",
       "1                    1.6 MT (75 л.с.)\n",
       "2                1.7 MT (79 л.с.) 4WD\n",
       "4           Фора 1.7 MT (79 л.с.) 4WD\n",
       "5              2.5d AT (180 л.с.) 4WD\n",
       "                     ...             \n",
       "69838       40i 3.0 AT (340 л.с.) 4WD\n",
       "69839    350 d 2.9d AT (249 л.с.) 4WD\n",
       "69840               1.6 MT (106 л.с.)\n",
       "69841               2.5 AT (194 л.с.)\n",
       "69842          3.0d AT (249 л.с.) 4WD\n",
       "Name: name, Length: 69650, dtype: object"
      ]
     },
     "execution_count": 78,
     "metadata": {},
     "output_type": "execute_result"
    }
   ],
   "source": [
    "# рассмотрим признак name и разделим его на объем двигателя и мощность в л.с\n",
    "all_cars['name']"
   ]
  },
  {
   "cell_type": "code",
   "execution_count": 79,
   "metadata": {},
   "outputs": [
    {
     "data": {
      "text/plain": [
       "0        2.0\n",
       "1        1.6\n",
       "2        1.7\n",
       "4        1.7\n",
       "5        2.5\n",
       "        ... \n",
       "69838    3.0\n",
       "69839    2.9\n",
       "69840    1.6\n",
       "69841    2.5\n",
       "69842    3.0\n",
       "Name: displacement, Length: 69650, dtype: float64"
      ]
     },
     "execution_count": 79,
     "metadata": {},
     "output_type": "execute_result"
    }
   ],
   "source": [
    "# признак разделим на 2 составляющие\n",
    "all_cars.name = all_cars.name.str.split('(')\n",
    "power1 = [power[0][:-3] for power in all_cars.name]\n",
    "\n",
    "all_cars['displacement'] = power1\n",
    "\n",
    "all_cars['displacement'] = all_cars['displacement'].str.split('.') \n",
    "liters = [(i[0][-1] + '.' + i[1][0]) for i in all_cars['displacement']]\n",
    "\n",
    "all_cars['displacement'] = liters\n",
    "all_cars['displacement'] =  pd.to_numeric(all_cars['displacement'])\n",
    "all_cars['displacement']"
   ]
  },
  {
   "cell_type": "code",
   "execution_count": 80,
   "metadata": {},
   "outputs": [
    {
     "data": {
      "text/plain": [
       "0        130\n",
       "1         75\n",
       "2         79\n",
       "4         79\n",
       "5        180\n",
       "        ... \n",
       "69838    340\n",
       "69839    249\n",
       "69840    106\n",
       "69841    194\n",
       "69842    249\n",
       "Name: power, Length: 69650, dtype: int64"
      ]
     },
     "execution_count": 80,
     "metadata": {},
     "output_type": "execute_result"
    }
   ],
   "source": [
    "power2 = [power[1][:3] for power in all_cars.name ]\n",
    "all_cars['power'] = power2\n",
    "all_cars['power'] = pd.to_numeric(all_cars['power'])\n",
    "all_cars['power']"
   ]
  },
  {
   "cell_type": "code",
   "execution_count": 81,
   "metadata": {},
   "outputs": [
    {
     "name": "stdout",
     "output_type": "stream",
     "text": [
      "<class 'pandas.core.frame.DataFrame'>\n",
      "Int64Index: 69650 entries, 0 to 69842\n",
      "Data columns (total 33 columns):\n",
      " #   Column               Non-Null Count  Dtype  \n",
      "---  ------               --------------  -----  \n",
      " 0   car_id               69650 non-null  int64  \n",
      " 1   equipment_dict       69650 non-null  object \n",
      " 2   modelDate            69650 non-null  int64  \n",
      " 3   numberOfDoors        69650 non-null  int64  \n",
      " 4   super_gen            69650 non-null  object \n",
      " 5   vendor               69650 non-null  object \n",
      " 6   price_segment        69650 non-null  object \n",
      " 7   mark_info            69650 non-null  object \n",
      " 8   model_info           69650 non-null  object \n",
      " 9   bodyType             69650 non-null  object \n",
      " 10  brand                69650 non-null  object \n",
      " 11  model_name           69650 non-null  object \n",
      " 12  model_version        69650 non-null  object \n",
      " 13  name                 69650 non-null  object \n",
      " 14  car_city             69650 non-null  object \n",
      " 15  publish_date         69650 non-null  object \n",
      " 16  user_views           69650 non-null  object \n",
      " 17  car_price            69650 non-null  float64\n",
      " 18  productionDate       69650 non-null  int64  \n",
      " 19  mileage              69650 non-null  int64  \n",
      " 20  color                69650 non-null  object \n",
      " 21  fuelType             69650 non-null  object \n",
      " 22  tax_per_year         69650 non-null  int64  \n",
      " 23  vehicleTransmission  69650 non-null  object \n",
      " 24  Привод               69650 non-null  object \n",
      " 25  Руль                 69650 non-null  object \n",
      " 26  Состояние            69650 non-null  object \n",
      " 27  Владельцы            69650 non-null  int64  \n",
      " 28  ПТС                  69650 non-null  object \n",
      " 29  Таможня              69650 non-null  object \n",
      " 30  description          69650 non-null  object \n",
      " 31  displacement         69650 non-null  float64\n",
      " 32  power                69650 non-null  int64  \n",
      "dtypes: float64(2), int64(8), object(23)\n",
      "memory usage: 18.1+ MB\n"
     ]
    }
   ],
   "source": [
    "all_cars.info()"
   ]
  },
  {
   "cell_type": "markdown",
   "metadata": {},
   "source": [
    "удалим лишние признаки, которые либо неинформативны, либо были преобразованы, либо дублируются"
   ]
  },
  {
   "cell_type": "code",
   "execution_count": 86,
   "metadata": {},
   "outputs": [
    {
     "name": "stdout",
     "output_type": "stream",
     "text": [
      "<class 'pandas.core.frame.DataFrame'>\n",
      "Int64Index: 69650 entries, 0 to 69842\n",
      "Data columns (total 25 columns):\n",
      " #   Column               Non-Null Count  Dtype  \n",
      "---  ------               --------------  -----  \n",
      " 0   car_id               69650 non-null  int64  \n",
      " 1   equipment_dict       69650 non-null  object \n",
      " 2   modelDate            69650 non-null  int64  \n",
      " 3   numberOfDoors        69650 non-null  int64  \n",
      " 4   super_gen            69650 non-null  object \n",
      " 5   vendor               69650 non-null  object \n",
      " 6   bodyType             69650 non-null  object \n",
      " 7   brand                69650 non-null  object \n",
      " 8   model_name           69650 non-null  object \n",
      " 9   car_price            69650 non-null  float64\n",
      " 10  productionDate       69650 non-null  int64  \n",
      " 11  mileage              69650 non-null  int64  \n",
      " 12  color                69650 non-null  object \n",
      " 13  fuelType             69650 non-null  object \n",
      " 14  tax_per_year         69650 non-null  int64  \n",
      " 15  vehicleTransmission  69650 non-null  object \n",
      " 16  Привод               69650 non-null  object \n",
      " 17  Руль                 69650 non-null  object \n",
      " 18  Состояние            69650 non-null  object \n",
      " 19  Владельцы            69650 non-null  int64  \n",
      " 20  ПТС                  69650 non-null  object \n",
      " 21  Таможня              69650 non-null  object \n",
      " 22  description          69650 non-null  object \n",
      " 23  displacement         69650 non-null  float64\n",
      " 24  power                69650 non-null  int64  \n",
      "dtypes: float64(2), int64(8), object(15)\n",
      "memory usage: 13.8+ MB\n"
     ]
    }
   ],
   "source": [
    "# удалим признаки, в которых дублируется информация, либо она не имеет ценности\n",
    "clean_data = all_cars.copy()\n",
    "clean_data.drop(['price_segment', 'mark_info', 'model_info', 'publish_date', 'model_version','user_views',\n",
    "                 'name', 'car_city'], axis=1, inplace=True)\n",
    "clean_data.info()"
   ]
  },
  {
   "cell_type": "markdown",
   "metadata": {},
   "source": [
    "сохраним этот датасет для  дальнейшей работы и проведения EDA, Feature Engineering и посторения моделей "
   ]
  },
  {
   "cell_type": "code",
   "execution_count": 87,
   "metadata": {},
   "outputs": [],
   "source": [
    "clean_data.to_csv(\"data_pars.csv\")"
   ]
  },
  {
   "cell_type": "code",
   "execution_count": 88,
   "metadata": {},
   "outputs": [
    {
     "data": {
      "text/html": [
       "<div>\n",
       "<style scoped>\n",
       "    .dataframe tbody tr th:only-of-type {\n",
       "        vertical-align: middle;\n",
       "    }\n",
       "\n",
       "    .dataframe tbody tr th {\n",
       "        vertical-align: top;\n",
       "    }\n",
       "\n",
       "    .dataframe thead th {\n",
       "        text-align: right;\n",
       "    }\n",
       "</style>\n",
       "<table border=\"1\" class=\"dataframe\">\n",
       "  <thead>\n",
       "    <tr style=\"text-align: right;\">\n",
       "      <th></th>\n",
       "      <th>Unnamed: 0</th>\n",
       "      <th>car_id</th>\n",
       "      <th>equipment_dict</th>\n",
       "      <th>modelDate</th>\n",
       "      <th>numberOfDoors</th>\n",
       "      <th>super_gen</th>\n",
       "      <th>vendor</th>\n",
       "      <th>bodyType</th>\n",
       "      <th>brand</th>\n",
       "      <th>model_name</th>\n",
       "      <th>...</th>\n",
       "      <th>vehicleTransmission</th>\n",
       "      <th>Привод</th>\n",
       "      <th>Руль</th>\n",
       "      <th>Состояние</th>\n",
       "      <th>Владельцы</th>\n",
       "      <th>ПТС</th>\n",
       "      <th>Таможня</th>\n",
       "      <th>description</th>\n",
       "      <th>displacement</th>\n",
       "      <th>power</th>\n",
       "    </tr>\n",
       "  </thead>\n",
       "  <tbody>\n",
       "    <tr>\n",
       "      <th>0</th>\n",
       "      <td>0</td>\n",
       "      <td>1</td>\n",
       "      <td>['engine-proof', 'alloy-wheel-disks', 'ptf', '...</td>\n",
       "      <td>21</td>\n",
       "      <td>4</td>\n",
       "      <td>['id', '6456218', 'displacement', 'engine_type...</td>\n",
       "      <td>EUROPEAN</td>\n",
       "      <td>Седан</td>\n",
       "      <td>Audi</td>\n",
       "      <td>A4</td>\n",
       "      <td>...</td>\n",
       "      <td>вариатор</td>\n",
       "      <td>передний</td>\n",
       "      <td>Левый</td>\n",
       "      <td>Не требует ремонта</td>\n",
       "      <td>3</td>\n",
       "      <td>Оригинал</td>\n",
       "      <td>Растаможен</td>\n",
       "      <td>- АУДИ А4Бортовой компьютерКлимат- контрольЭл...</td>\n",
       "      <td>2.0</td>\n",
       "      <td>130</td>\n",
       "    </tr>\n",
       "    <tr>\n",
       "      <th>1</th>\n",
       "      <td>1</td>\n",
       "      <td>3</td>\n",
       "      <td>['alarm']</td>\n",
       "      <td>45</td>\n",
       "      <td>4</td>\n",
       "      <td>['id', '6432074', 'displacement', 'engine_type...</td>\n",
       "      <td>RUSSIAN</td>\n",
       "      <td>Седан</td>\n",
       "      <td>LADA (ВАЗ)</td>\n",
       "      <td>2106</td>\n",
       "      <td>...</td>\n",
       "      <td>механическая</td>\n",
       "      <td>задний</td>\n",
       "      <td>Левый</td>\n",
       "      <td>Не требует ремонта</td>\n",
       "      <td>2</td>\n",
       "      <td>Оригинал</td>\n",
       "      <td>Растаможен</td>\n",
       "      <td>Продам Ваз 2106 1.6 4 передачиАвто в хорошем с...</td>\n",
       "      <td>1.6</td>\n",
       "      <td>75</td>\n",
       "    </tr>\n",
       "    <tr>\n",
       "      <th>2</th>\n",
       "      <td>2</td>\n",
       "      <td>7</td>\n",
       "      <td>['alloy-wheel-disks', 'ptf', 'roof-rails', 'wh...</td>\n",
       "      <td>28</td>\n",
       "      <td>3</td>\n",
       "      <td>['id', '6433304', 'displacement', 'engine_type...</td>\n",
       "      <td>RUSSIAN</td>\n",
       "      <td>Внедорожник 3 дв.</td>\n",
       "      <td>LADA (ВАЗ)</td>\n",
       "      <td>2121 (4x4)</td>\n",
       "      <td>...</td>\n",
       "      <td>механическая</td>\n",
       "      <td>полный</td>\n",
       "      <td>Левый</td>\n",
       "      <td>Не требует ремонта</td>\n",
       "      <td>3</td>\n",
       "      <td>Оригинал</td>\n",
       "      <td>Растаможен</td>\n",
       "      <td>отличное состояние, движок карбюратор, все раб...</td>\n",
       "      <td>1.7</td>\n",
       "      <td>79</td>\n",
       "    </tr>\n",
       "  </tbody>\n",
       "</table>\n",
       "<p>3 rows × 26 columns</p>\n",
       "</div>"
      ],
      "text/plain": [
       "   Unnamed: 0  car_id                                     equipment_dict  \\\n",
       "0           0       1  ['engine-proof', 'alloy-wheel-disks', 'ptf', '...   \n",
       "1           1       3                                          ['alarm']   \n",
       "2           2       7  ['alloy-wheel-disks', 'ptf', 'roof-rails', 'wh...   \n",
       "\n",
       "   modelDate  numberOfDoors  \\\n",
       "0         21              4   \n",
       "1         45              4   \n",
       "2         28              3   \n",
       "\n",
       "                                           super_gen    vendor  \\\n",
       "0  ['id', '6456218', 'displacement', 'engine_type...  EUROPEAN   \n",
       "1  ['id', '6432074', 'displacement', 'engine_type...   RUSSIAN   \n",
       "2  ['id', '6433304', 'displacement', 'engine_type...   RUSSIAN   \n",
       "\n",
       "            bodyType       brand  model_name  ...  vehicleTransmission  \\\n",
       "0              Седан        Audi          A4  ...             вариатор   \n",
       "1              Седан  LADA (ВАЗ)        2106  ...         механическая   \n",
       "2  Внедорожник 3 дв.  LADA (ВАЗ)  2121 (4x4)  ...         механическая   \n",
       "\n",
       "     Привод   Руль           Состояние Владельцы       ПТС     Таможня  \\\n",
       "0  передний  Левый  Не требует ремонта         3  Оригинал  Растаможен   \n",
       "1    задний  Левый  Не требует ремонта         2  Оригинал  Растаможен   \n",
       "2    полный  Левый  Не требует ремонта         3  Оригинал  Растаможен   \n",
       "\n",
       "                                         description displacement power  \n",
       "0   - АУДИ А4Бортовой компьютерКлимат- контрольЭл...          2.0   130  \n",
       "1  Продам Ваз 2106 1.6 4 передачиАвто в хорошем с...          1.6    75  \n",
       "2  отличное состояние, движок карбюратор, все раб...          1.7    79  \n",
       "\n",
       "[3 rows x 26 columns]"
      ]
     },
     "execution_count": 88,
     "metadata": {},
     "output_type": "execute_result"
    }
   ],
   "source": [
    "data = pd.read_csv('data_pars.csv')\n",
    "data.head(3)"
   ]
  },
  {
   "cell_type": "code",
   "execution_count": null,
   "metadata": {},
   "outputs": [],
   "source": []
  }
 ],
 "metadata": {
  "kernelspec": {
   "display_name": "Python 3",
   "language": "python",
   "name": "python3"
  },
  "language_info": {
   "codemirror_mode": {
    "name": "ipython",
    "version": 3
   },
   "file_extension": ".py",
   "mimetype": "text/x-python",
   "name": "python",
   "nbconvert_exporter": "python",
   "pygments_lexer": "ipython3",
   "version": "3.8.5"
  }
 },
 "nbformat": 4,
 "nbformat_minor": 4
}
